{
 "cells": [
  {
   "cell_type": "markdown",
   "metadata": {},
   "source": [
    "## algorithm design and anlysis-2025 spring  homework 3\n",
    "**Deadline**：2025.5.14\n",
    "\n",
    "**name**:\n",
    "\n",
    "\n",
    "note：\n",
    "---\n",
    "1. 带有\\*的题目，申请免上课的同学，必须完成，其他同学选作；\n",
    "2. 请独立完成，如求助了他人或者大模型，请著明，并且不可省略算法分析部分；\n",
    "4. 如若作答有雷同，全部取消成绩；\n",
    "3. 需要书面作答的题目，可以通过引用图片的形式添加，但是注意上传项目时包含所引用的图片的源文件；\n",
    "4. $log_n$ 默认表示$log_2{n}$;"
   ]
  },
  {
   "cell_type": "markdown",
   "metadata": {},
   "source": [
    "## 问题 1  \n",
    "\n",
    "请证明基于比较的排序算法计算复杂度下界为$\\Omega(nlogn)$"
   ]
  },
  {
   "cell_type": "markdown",
   "metadata": {},
   "source": [
    "you can refer a handwritten picture, pleas upload the picture in /fig/xxx.png\n",
    "answer："
   ]
  },
  {
   "cell_type": "markdown",
   "metadata": {},
   "source": [
    "### /fig/hw3-1-answer"
   ]
  },
  {
   "cell_type": "markdown",
   "metadata": {},
   "source": [
    "## 问题 2 \n",
    "\n",
    "构建二叉搜索树\n",
    "\n",
    "> 1. 给定一个数组 [48, 33, 49, 47, 42, 46, 32], 构建一个二叉搜索树存储这些数据，请**绘制**所构建的**二叉搜索树**（标明结点的值）。\n",
    "> 2. 从第1问的二叉搜索树中删除33，请**绘制**删除33后的**二叉搜索树**（标明结点的值）\n",
    "\n",
    "- 推荐使用graphviz包绘制树的结构"
   ]
  },
  {
   "cell_type": "markdown",
   "metadata": {},
   "source": [
    "you can refer a handwritten picture, pleas upload the picture in /fig/xxx.png\n",
    "answer："
   ]
  },
  {
   "cell_type": "markdown",
   "metadata": {},
   "source": [
    "### /fig/hw3-2-answer"
   ]
  },
  {
   "cell_type": "markdown",
   "metadata": {},
   "source": [
    "## 问题 3 \n",
    "\n",
    "> 下面是九门课程的开始和结束时间:\n",
    ">\n",
    "> [(9:00,12:30), (11:00,14:00), (13:00, 14:30), (9:00,10:30),(13:00, 14:30),(14:00,16:30), (15:00,16:30), (15:00,16:30), (9:00,10:30)]\n",
    ">\n",
    "> 请使用贪婪算法为这九门课分配教室，要求在同一天内安排这些课，并且每个教室同一时间只能安排一门课。\n",
    "\n",
    "**请问最少需要几间教室，罗列出每个教室安排的课程**"
   ]
  },
  {
   "cell_type": "markdown",
   "metadata": {},
   "source": [
    "### 算法设计思路\n",
    "\n",
    "1. 按课程开始时间排序；\n",
    "2. 用一个 最小堆 记录每个教室的下一个可用时间；\n",
    "3. 遍历每门课程，尝试安排到最早空闲的教室； 如果课程开始时间 ≥ 某教室的结束时间，则安排到该教室； 否则，需要新开一个教室。\n",
    "\n",
    "###  时间复杂度分析\n",
    "\n",
    "* 排序：$O(n \\log n)$\n",
    "* 遍历并安排课程：$O(n \\log k)$，$k$ 是教室数量\n",
    "* 总体复杂度：$O(n \\log n)$\n",
    "\n"
   ]
  },
  {
   "cell_type": "code",
   "execution_count": 18,
   "metadata": {},
   "outputs": [],
   "source": [
    "import heapq\n",
    "\n",
    "def time_to_minutes(t):\n",
    "    h, m = map(int, t.split(\":\"))\n",
    "    return h * 60 + m\n",
    "\n",
    "def assign_classrooms(courses):\n",
    "    intervals = []\n",
    "    for i, (start, end) in enumerate(courses):\n",
    "        intervals.append((time_to_minutes(start), time_to_minutes(end), i))\n",
    "    \n",
    "    intervals.sort()\n",
    "\n",
    "    heap = []\n",
    "    classrooms = []  \n",
    "\n",
    "    for start, end, index in intervals:\n",
    "        if heap and heap[0][0] <= start:\n",
    "            end_time, room_id = heapq.heappop(heap)\n",
    "            classrooms[room_id].append(index)\n",
    "            heapq.heappush(heap, (end, room_id))\n",
    "        else:\n",
    "            room_id = len(classrooms)\n",
    "            classrooms.append([index])\n",
    "            heapq.heappush(heap, (end, room_id))\n",
    "\n",
    "    return classrooms\n",
    "\n",
    "courses = [\n",
    "    (\"9:00\", \"12:30\"), (\"11:00\", \"14:00\"), (\"13:00\", \"14:30\"),\n",
    "    (\"9:00\", \"10:30\"), (\"13:00\", \"14:30\"), (\"14:00\", \"16:30\"),\n",
    "    (\"15:00\", \"16:30\"), (\"15:00\", \"16:30\"), (\"9:00\", \"10:30\")\n",
    "]\n",
    "\n",
    "classroom_assignments = assign_classrooms(courses)"
   ]
  },
  {
   "cell_type": "markdown",
   "metadata": {},
   "source": [
    "## 问题 4 \n",
    "\n",
    "> 爬楼梯问题：假设爬楼梯时你每次只能爬一阶或者爬两阶，问爬上n阶的楼梯，你一共有多少种方法\n",
    "\n",
    "请设计算法完成该问题，分析算法设计思路，计算时间复杂度，并基于python编程实现"
   ]
  },
  {
   "cell_type": "markdown",
   "metadata": {},
   "source": [
    "idea："
   ]
  },
  {
   "cell_type": "markdown",
   "metadata": {},
   "source": [
    "### 算法设计思路\n",
    "设 c[i] 表示爬上 i 阶楼梯的方法数。\n",
    "对于 i = 0，也就是站在原地，有 1 种方法，即 c[0] = 1；对于 i = 1，只有一种方法，就是直接爬一阶，所以 c[1] = 1。\n",
    "对于 i > 1，要到达第 i 阶楼梯，有两种途径：\n",
    "从第 i - 1 阶楼梯再爬一阶到达第 i 阶，此时方法数为 c[i - 1]。\n",
    "从第 i - 2 阶楼梯再爬两阶到达第 i 阶，此时方法数为 c[i - 2]。\n",
    "所以，c[i] = c[i - 1] + c[i - 2]。\n",
    "然后可以通过循环依次计算出 c[2] 到 c[n] 的值，所以 c[n] 就是爬上 n 阶楼梯的方法数。\n",
    "\n",
    "时间复杂度：我通过一个循环计算 c 数组中从 2 到 n 的值，循环次数为 n - 1 次，又因为每次计算的操作时间复杂度为常数，所以总的时间复杂度为O(n)。"
   ]
  },
  {
   "cell_type": "code",
   "execution_count": 3,
   "metadata": {},
   "outputs": [
    {
     "name": "stdout",
     "output_type": "stream",
     "text": [
      "21\n"
     ]
    }
   ],
   "source": [
    "# add your code here\n",
    "# your algorithm time complexity is: O(n)\n",
    "def climb_stairs(n):\n",
    "    if n == 0 or n == 1:\n",
    "        return 1\n",
    "    c = [0] * (n + 1)\n",
    "    c[0] = 1\n",
    "    c[1] = 1\n",
    "    for i in range(2, n + 1):\n",
    "        c[i] = c[i - 1] + c[i - 2]\n",
    "    return c[n]\n",
    "\n",
    "n = 7\n",
    "print(climb_stairs(n))"
   ]
  },
  {
   "cell_type": "markdown",
   "metadata": {},
   "source": [
    "## 问题 5 \n",
    "\n",
    "> 0-1背包问题：现在有4块大理石，每个大理石对应的重量和价值使用一个元组表示, 即（重量，价值），4块大理石的重量和价值为：[(5,10), (4,40), (6,30), (3, 50)], 假设你有一辆最大承重为9的小推车，请问使用这个小推车装大理石的最大价值为多少\n",
    "\n",
    "请设计一个算法解决该问题，分析算法设计思路，计算时间复杂度，并基于python编程实现"
   ]
  },
  {
   "cell_type": "markdown",
   "metadata": {},
   "source": [
    "idea："
   ]
  },
  {
   "cell_type": "markdown",
   "metadata": {},
   "source": [
    "### 算法设计思路\n",
    "由于此题是一个0-1 背包问题，设 c[w] 表示在总容量为 w 的情况下，能获得的最大价值。对于每个物品 (weight, value)，从后往前更新c数组。\n",
    "时间复杂度：因为遍历每个物品时间复杂度为O(n),对每个物品遍历 W 次,所以时间复杂度为O(W),所以时间复杂度为O(nW)"
   ]
  },
  {
   "cell_type": "code",
   "execution_count": 5,
   "metadata": {},
   "outputs": [
    {
     "name": "stdout",
     "output_type": "stream",
     "text": [
      "最大总价值 = 90\n"
     ]
    }
   ],
   "source": [
    "# add your code here\n",
    "# your algorithm time complexity is:\n",
    "def knapsack(items, capacity):\n",
    "    c = [0] * (capacity + 1)\n",
    "\n",
    "    for weight, value in items:\n",
    "        for w in range(capacity, weight - 1, -1):\n",
    "            c[w] = max(c[w], c[w - weight] + value)\n",
    "\n",
    "    return c[capacity]\n",
    "\n",
    "def test_knapsack():\n",
    "    items = [(5, 10), (4, 40), (6, 30), (3, 50)]\n",
    "    capacity = 9\n",
    "    max_value = knapsack(items, capacity)\n",
    "    print(f\"最大总价值 = {max_value}\")\n",
    "\n",
    "test_knapsack()"
   ]
  },
  {
   "cell_type": "markdown",
   "metadata": {},
   "source": [
    "## 问题 6 \n",
    "给定 `n` 个非负整数表示每个宽度为 `1` 的柱子的高度图，计算按此排列的柱子，下雨之后能接多少雨水。\n",
    "\n",
    "\n",
    "\n",
    "<div style=\"text-align:center;width:800px;\"> <img alt=\"\" src=\"./fig/hw3q6.png\"> </div>\n",
    "\n",
    "请分析算法设计思路，计算时间复杂度，并基于python编程实现"
   ]
  },
  {
   "cell_type": "markdown",
   "metadata": {},
   "source": [
    "idea："
   ]
  },
  {
   "cell_type": "markdown",
   "metadata": {},
   "source": [
    "### 算法设计思路\n",
    "本题可以使用双指针法。该方法的思想是分别从左右两端向中间移动指针，然后记录左右两侧的最大高度，根据左右最大高度的大小关系来确定当前指针位置能接的雨水量。\n",
    "1. 当 left 小于 right 时，\n",
    "    如果 height[left] 小于 height[right]：若 height[left] 大于等于 left_max，更新 left_max 为 height[left]。否则，当前位置能接的雨水量为 left_max - height[left]，将其累加到结果中。left 指针右移一位。\n",
    "\n",
    "    如果 height[right] 大于等于 right_max，更新 right_max 为 height[right]。否则，当前位置能接的雨水量为 right_max - height[right]，将其累加到结果中。right 指针左移一位。\n",
    "2. 重复步骤 2，直到 left 等于 right，此时遍历结束，返回累加的雨水量\n",
    "\n",
    "时间复杂度：只需要对数组进行一次遍历，每个元素最多被访问一次，因此时间复杂度为O(n)。"
   ]
  },
  {
   "cell_type": "code",
   "execution_count": 6,
   "metadata": {},
   "outputs": [
    {
     "name": "stdout",
     "output_type": "stream",
     "text": [
      "能接的雨水量为: 6\n"
     ]
    }
   ],
   "source": [
    "# add your code here\n",
    "# your algorithm time complexity is:O(n)\n",
    "def rain(height):\n",
    "    left, right = 0, len(height) - 1\n",
    "    left_max, right_max = 0, 0\n",
    "    result = 0\n",
    "\n",
    "    while left < right:\n",
    "        if height[left] < height[right]:\n",
    "            if height[left] >= left_max:\n",
    "                left_max = height[left]\n",
    "            else:\n",
    "                result += left_max - height[left]\n",
    "            left += 1\n",
    "        else:\n",
    "            if height[right] >= right_max:\n",
    "                right_max = height[right]\n",
    "            else:\n",
    "                result += right_max - height[right]\n",
    "            right -= 1\n",
    "\n",
    "    return result\n",
    "\n",
    "height = [0,1,0,2,1,0,1,3,2,1,2,1]\n",
    "print(\"能接的雨水量为:\", rain(height))\n",
    "    "
   ]
  },
  {
   "cell_type": "markdown",
   "metadata": {},
   "source": [
    "## 问题 7 \n",
    "\n",
    "**股票投资组合优化**： 假设你是一位投资者，想要在不同的股票中分配你的资金，以最大化你的投资回报。每只股票都有不同的预期收益率和风险。你的目标是选择一些股票，使得总投资金额不超过你的预算，并且预期收益最大化。\n",
    "\n",
    "在这个情况下，你可以将每只股票视为一个“物品”，其重量为投资金额，价值为预期收益率。然后，你可以使用分级背包问题的方法来选择部分股票，以便在预算内获得最大的预期收益。\n",
    "\n",
    "以下是一个简化的例子：\n",
    "\n",
    "假设你有以下三只股票可供选择：\n",
    "\n",
    "1. 股票 A：投资金额 5000 美元，预期收益率 10%\n",
    "2. 股票 B：投资金额 3000 美元，预期收益率 8%\n",
    "3. 股票 C：投资金额 2000 美元，预期收益率 12%\n",
    "\n",
    "请设计算法找到最优投资方案，分析算法设计思路，计算时间复杂度，并基于python编程实现"
   ]
  },
  {
   "cell_type": "markdown",
   "metadata": {},
   "source": [
    "idea："
   ]
  },
  {
   "cell_type": "markdown",
   "metadata": {},
   "source": [
    "### 算法设计思路\n",
    "核心思路是使用动态规划，定义一个二维数组 c[i][j]，其中 i 表示考虑前 i 只股票，j 表示当前可用的预算金额，c[i][j] 表示在前 i 只股票中选择，预算为 j 时能获得的最大预期收益。\n",
    "\n",
    "时间复杂度：因为需要填充一个大小为 (n + 1) * (budget + 1) 的二维数组，其中 n 是股票的数量，budget是总预算。对于数组中的每个元素，计算时间是常数，所以总的时间复杂度为O(n*budget)"
   ]
  },
  {
   "cell_type": "code",
   "execution_count": 8,
   "metadata": {},
   "outputs": [
    {
     "name": "stdout",
     "output_type": "stream",
     "text": [
      "最大预期收益: 740.0\n",
      "选择的股票编号: [2, 0]\n"
     ]
    }
   ],
   "source": [
    "# add your code here\n",
    "# your algorithm time complexity is:O(nW)\n",
    "def stock_investment(costs, profits, budget):\n",
    "    n = len(costs)\n",
    "    c = [[0 for _ in range(budget + 1)] for _ in range(n + 1)]\n",
    "\n",
    "    for i in range(1, n + 1):\n",
    "        for j in range(1, budget + 1):\n",
    "            if costs[i - 1] <= j:\n",
    "                c[i][j] = max(c[i - 1][j], c[i - 1][j - costs[i - 1]] + profits[i - 1])\n",
    "            else:\n",
    "                c[i][j] = c[i - 1][j]\n",
    "\n",
    "    selected_stocks = []\n",
    "    j = budget\n",
    "    for i in range(n, 0, -1):\n",
    "        if c[i][j] != c[i - 1][j]:\n",
    "            selected_stocks.append(i - 1)\n",
    "            j -= costs[i - 1]\n",
    "\n",
    "    max_profit = c[n][budget]\n",
    "    return max_profit, selected_stocks\n",
    "\n",
    "\n",
    "costs = [5000, 3000, 2000]\n",
    "profits = [0.1 * 5000, 0.08 * 3000, 0.12 * 2000]\n",
    "budget = 7000\n",
    "\n",
    "max_profit, selected_stocks = stock_investment(costs, profits, budget)\n",
    "print(\"最大预期收益:\", max_profit)\n",
    "print(\"选择的股票编号:\", selected_stocks)\n",
    "    "
   ]
  },
  {
   "cell_type": "markdown",
   "metadata": {},
   "source": [
    "## 问题 8\n",
    "\n",
    "给你二叉搜索树的根节点 root ，该树中的恰好两个节点的值被错误地交换。请在不改变其结构的情况下，恢复这棵树 。设计算法解决该问题，分析算法设计思路，计算时间复杂度，并基于python编程实现\n",
    "\n",
    "e.g.:\n",
    "---\n",
    "1.\n",
    "\n",
    "<div style=\"text-align:center;width:200px;\"> <img alt=\"\" src=\"./fig/hw3q9-1.jpg\"> </div>\n",
    "输入：root = [1,3,null,null,2]， 输出为：[3,1,null,null,2]， \n",
    "\n",
    "解释：3 不能是 1 的左孩子，因为 3 > 1 。交换 1 和 3 使二叉搜索树有效。\n",
    "\n",
    "2.\n",
    "\n",
    " <div style=\"text-align:center;width:200px;\"> <img alt=\"\" src=\"./fig/hw3q9-1.jpg\"> </div>\n",
    "输入： root=[3,1,4,null,null,2]， 输出为：[2,1,4,null,null,3]\n",
    "\n",
    "解释：2 不能在 3 的右子树中，因为 2 < 3 。交换 2 和 3 使二叉搜索树有效。"
   ]
  },
  {
   "cell_type": "markdown",
   "metadata": {},
   "source": [
    "idea：\n"
   ]
  },
  {
   "cell_type": "markdown",
   "metadata": {},
   "source": [
    "### 算法设计思路（借助了大模型）\n",
    "本题可利用二叉搜索树解决。由于二叉搜索树的中序遍历结果是一个递增的有序序列。当树中有两个节点的值被错误交换时，中序遍历结果中会出现逆序对。\n",
    "时间复杂度：中序遍历二叉树需要O(n) 的时间，其中n是树中节点的数量。在中序遍历结果中寻找逆序对和交换节点值的操作也都可以在O(n)时间内完成。因此，总的时间复杂度为O(n)."
   ]
  },
  {
   "cell_type": "code",
   "execution_count": 12,
   "metadata": {},
   "outputs": [
    {
     "name": "stdout",
     "output_type": "stream",
     "text": [
      "恢复后的树: [3, 1, None, None, 2]\n",
      "恢复后的树: [2, 1, 4, None, None, 3]\n"
     ]
    }
   ],
   "source": [
    "class TreeNode:\n",
    "    def __init__(self, val=0, left=None, right=None):\n",
    "        self.val = val\n",
    "        self.left = left\n",
    "        self.right = right\n",
    "\n",
    "def inorder_traversal(root):\n",
    "    result = []\n",
    "    def helper(node):\n",
    "        if node:\n",
    "            helper(node.left)\n",
    "            result.append(node)\n",
    "            helper(node.right)\n",
    "    helper(root)\n",
    "    return result\n",
    "\n",
    "def recoverTree(root):\n",
    "    nodes = inorder_traversal(root)\n",
    "    first, second = None, None\n",
    "    for i in range(len(nodes) - 1):\n",
    "        if nodes[i].val > nodes[i + 1].val:\n",
    "            if not first:\n",
    "                first = nodes[i]\n",
    "            second = nodes[i + 1]\n",
    "    first.val, second.val = second.val, first.val\n",
    "\n",
    "def list_to_tree(lst):\n",
    "    if not lst:\n",
    "        return None\n",
    "    root = TreeNode(lst[0])\n",
    "    queue = [root]\n",
    "    i = 1\n",
    "    while queue and i < len(lst):\n",
    "        node = queue.pop(0)\n",
    "        if lst[i] is not None:\n",
    "            node.left = TreeNode(lst[i])\n",
    "            queue.append(node.left)\n",
    "        i += 1\n",
    "        if i < len(lst) and lst[i] is not None:\n",
    "            node.right = TreeNode(lst[i])\n",
    "            queue.append(node.right)\n",
    "        i += 1\n",
    "    return root\n",
    "\n",
    "\n",
    "def tree_to_list(root):\n",
    "    if not root:\n",
    "        return []\n",
    "    result = []\n",
    "    queue = [root]\n",
    "    while queue:\n",
    "        node = queue.pop(0)\n",
    "        if node:\n",
    "            result.append(node.val)\n",
    "            queue.append(node.left)\n",
    "            queue.append(node.right)\n",
    "        else:\n",
    "            result.append(None)\n",
    "    while result and result[-1] is None:\n",
    "        result.pop()\n",
    "    return result\n",
    "\n",
    "root1 = list_to_tree([1, 3, None, None, 2])\n",
    "recoverTree(root1)\n",
    "print(\"恢复后的树:\", tree_to_list(root1))\n",
    "\n",
    "root2 = list_to_tree([3, 1, 4, None, None, 2])\n",
    "recoverTree(root2)\n",
    "print(\"恢复后的树:\", tree_to_list(root2))\n",
    "    "
   ]
  },
  {
   "cell_type": "markdown",
   "metadata": {},
   "source": [
    "## 问题 9  \n",
    "\n",
    "给你一个二叉树的根节点 root ，树中每个节点都存放有一个 0 到 9 之间的数字。每条从根节点到叶节点的路径都代表一个数字：\n",
    "\n",
    "> 例如，从根节点到叶节点的路径 1 -> 2 -> 3 表示数字 123 。\n",
    "\n",
    "设计一个算法计算从根节点到叶节点生成的所有数字之和 ，分析算法设计思路，计算时间复杂度，并基于python编程实现\n",
    "\n",
    "叶节点:是指没有子节点的节点。\n",
    "\n",
    "e.g.:\n",
    "---\n",
    "1.\n",
    "\n",
    " <div style=\"text-align:center;width:200px;\"> <img alt=\"figure\" src=\"./fig/hw3q10-1.jpg\"> </div>\n",
    "\n",
    " 输入：root = [1,2,3], 输出：25\n",
    "\n",
    "解释：从根到叶子节点路径 1->2 代表数字 12，1->3 代表数字 13，因此和为 12 + 13 = 25 。\n",
    "\n",
    "2.\n",
    "\n",
    " <div style=\"text-align:center;width:200px;\"> <img alt=\"figure\" src=\"./fig/hw3q10-2.jpg\"> </div>\n",
    "\n",
    " 输入：root = [4,9,0,5,1], 输出：1026\n",
    "\n",
    "解释：从根到叶子节点路径 4->9->5 代表数字 495，4->9->1 代表数字 491，4->0 代表数字 40。因此和为 495 + 491 + 40 = 1026 。"
   ]
  },
  {
   "cell_type": "markdown",
   "metadata": {},
   "source": [
    "idea："
   ]
  },
  {
   "cell_type": "markdown",
   "metadata": {},
   "source": [
    "### 算法设计思路\n",
    "要计算从根节点到叶节点生成的所有数字之和，可使用深度优先搜索的方法。\n",
    "1. 递归遍历：从根节点开始，对二叉树进行深度优先搜索。在遍历过程中，记录从根节点到当前节点所形成的数字。\n",
    "2. 更新路径数字：当从父节点移动到子节点时，将当前路径所代表的数字乘以 10 并加上子节点的值，得到新的路径数字。\n",
    "3. 处理叶节点：当到达叶子节点时，将当前路径所代表的数字累加到总和中。\n",
    "4. 返回结果：遍历完所有路径后，返回累加的总和。\n",
    "\n",
    "时间复杂度：因为需要遍历二叉树的每个节点，因此时间复杂度为O(n)。"
   ]
  },
  {
   "cell_type": "code",
   "execution_count": 13,
   "metadata": {},
   "outputs": [
    {
     "name": "stdout",
     "output_type": "stream",
     "text": [
      "从根到叶节点数字之和: 25\n",
      "从根到叶节点数字之和: 1026\n"
     ]
    }
   ],
   "source": [
    "# add your code here\n",
    "# your algorithm time complexity is:O(n)\n",
    "class TreeNode:\n",
    "    def __init__(self, val=0, left=None, right=None):\n",
    "        self.val = val\n",
    "        self.left = left\n",
    "        self.right = right\n",
    "\n",
    "def sumNumbers(root):\n",
    "    def dfs(node, current_sum):\n",
    "        if not node:\n",
    "            return 0\n",
    "        current_sum = current_sum * 10 + node.val\n",
    "        if not node.left and not node.right:\n",
    "            return current_sum\n",
    "        return dfs(node.left, current_sum) + dfs(node.right, current_sum)\n",
    "\n",
    "    return dfs(root, 0)\n",
    "\n",
    "def list_to_tree(lst):\n",
    "    if not lst:\n",
    "        return None\n",
    "    root = TreeNode(lst[0])\n",
    "    queue = [root]\n",
    "    i = 1\n",
    "    while queue and i < len(lst):\n",
    "        node = queue.pop(0)\n",
    "        if lst[i] is not None:\n",
    "            node.left = TreeNode(lst[i])\n",
    "            queue.append(node.left)\n",
    "        i += 1\n",
    "        if i < len(lst) and lst[i] is not None:\n",
    "            node.right = TreeNode(lst[i])\n",
    "            queue.append(node.right)\n",
    "        i += 1\n",
    "    return root\n",
    "\n",
    "root1 = list_to_tree([1, 2, 3])\n",
    "print(\"从根到叶节点数字之和:\", sumNumbers(root1))\n",
    "\n",
    "root2 = list_to_tree([4, 9, 0, 5, 1])\n",
    "print(\"从根到叶节点数字之和:\", sumNumbers(root2))\n",
    "    "
   ]
  },
  {
   "cell_type": "markdown",
   "metadata": {},
   "source": [
    "## 问题 10  \n",
    "\n",
    "给你一个二叉树的根节点 root ， 检查它是否轴对称。\n",
    "\n",
    "1. 分析算法设计思路，计算时间复杂度，并基于python编程实现\n",
    "2. \\* 设计使用递归和迭代两种方法解决这个问题，计算时间复杂度，并基于python编程实现\n",
    "\n",
    "e.g.:\n",
    "---\n",
    "1.\n",
    "\n",
    " <div style=\"text-align:center;width:200px;\"> <img alt=\"figure\" src=\"./fig/hw3q11-1.png\"> </div>\n",
    "\n",
    " 输入：root = [1,2,2,3,4,4,3]， 输出：true\n",
    "\n",
    "解释：二叉树 [1,2,2,3,4,4,3] 对称。\n",
    "\n",
    "2.\n",
    "\n",
    " <div style=\"text-align:center;width:200px;\"> <img alt=\"figure\" src=\"./fig/hw3q11-2.png\"> </div>\n",
    "\n",
    " 输入：root = [1,2,2,null,3,null,3]， 输出：false"
   ]
  },
  {
   "cell_type": "markdown",
   "metadata": {},
   "source": [
    "idea"
   ]
  },
  {
   "cell_type": "markdown",
   "metadata": {},
   "source": [
    "### 算法设计思路\n",
    "对于一棵二叉树是否轴对称，可以通过递归比较树的左右子树。如果根节点为空，则它是轴对称的。对于非空树，需要比较左子树和右子树。具体来说，左子树的左节点应该与右子树的右节点对称，左子树的右节点应该与右子树的左节点对称。递归地对左子树的左节点和右子树的右节点进行比较，同时对左子树的右节点和右子树的左节点进行比较，如果所有比较都相等，则二叉树是轴对称的。\n",
    "\n",
    "时间复杂度：对于每个节点，我们最多访问一次，因此时间复杂度为O(n)。"
   ]
  },
  {
   "cell_type": "code",
   "execution_count": 14,
   "metadata": {},
   "outputs": [
    {
     "name": "stdout",
     "output_type": "stream",
     "text": [
      "是否轴对称: True\n",
      "是否轴对称: False\n"
     ]
    }
   ],
   "source": [
    "# add your code here\n",
    "# your algorithm time complexity is:O(n)\n",
    "class TreeNode:\n",
    "    def __init__(self, val=0, left=None, right=None):\n",
    "        self.val = val\n",
    "        self.left = left\n",
    "        self.right = right\n",
    "\n",
    "\n",
    "def isSymmetric(root):\n",
    "    def helper(left, right):\n",
    "        if not left and not right:\n",
    "            return True\n",
    "        if not left or not right:\n",
    "            return False\n",
    "        return left.val == right.val and helper(left.left, right.right) and helper(left.right, right.left)\n",
    "\n",
    "    if not root:\n",
    "        return True\n",
    "    return helper(root.left, root.right)\n",
    "\n",
    "def list_to_tree(lst):\n",
    "    if not lst:\n",
    "        return None\n",
    "    root = TreeNode(lst[0])\n",
    "    queue = [root]\n",
    "    i = 1\n",
    "    while queue and i < len(lst):\n",
    "        node = queue.pop(0)\n",
    "        if lst[i] is not None:\n",
    "            node.left = TreeNode(lst[i])\n",
    "            queue.append(node.left)\n",
    "        i += 1\n",
    "        if i < len(lst) and lst[i] is not None:\n",
    "            node.right = TreeNode(lst[i])\n",
    "            queue.append(node.right)\n",
    "        i += 1\n",
    "    return root\n",
    "\n",
    "\n",
    "root1 = list_to_tree([1, 2, 2, 3, 4, 4, 3])\n",
    "print(\"是否轴对称:\", isSymmetric(root1))\n",
    "\n",
    "root2 = list_to_tree([1, 2, 2, None, 3, None, 3])\n",
    "print(\"是否轴对称:\", isSymmetric(root2))"
   ]
  },
  {
   "cell_type": "markdown",
   "metadata": {},
   "source": [
    "## 问题 11  \n",
    "\n",
    "给你一个由 '1'（陆地）和 '0'（水）组成的的二维网格，请你计算网格中岛屿的数量。岛屿总是被水包围，并且每座岛屿只能由水平方向和/或竖直方向上相邻的陆地连接形成。\n",
    "\n",
    "此外，你可以假设该网格的四条边均被水包围。\n",
    "\n",
    "分析算法设计思路，计算时间复杂度，并基于python编程实现\n",
    "\n",
    "e.g.:\n",
    "---\n",
    "1.\n",
    "输入：grid = [\n",
    "\n",
    "    [\"1\",\"1\",\"1\",\"1\",\"0\"],\n",
    "\n",
    "    [\"1\",\"1\",\"0\",\"1\",\"0\"], \n",
    "\n",
    "    [\"1\",\"1\",\"0\",\"0\",\"0\"], \n",
    "\n",
    "    [\"0\",\"0\",\"0\",\"0\",\"0\"]  \n",
    "\n",
    "]\n",
    "\n",
    "输出：1\n",
    "\n",
    "2.\n",
    "输入：grid = [\n",
    "\n",
    "    [\"1\",\"1\",\"0\",\"0\",\"0\"],\n",
    "\n",
    "    [\"1\",\"1\",\"0\",\"0\",\"0\"],\n",
    "\n",
    "    [\"0\",\"0\",\"1\",\"0\",\"0\"],\n",
    "\n",
    "    [\"0\",\"0\",\"0\",\"1\",\"1\"]\n",
    "\n",
    "]\n",
    "\n",
    "输出：3"
   ]
  },
  {
   "cell_type": "markdown",
   "metadata": {},
   "source": [
    "idea:"
   ]
  },
  {
   "cell_type": "markdown",
   "metadata": {},
   "source": [
    "### 算法设计思路\n",
    "本题可以使用深度优先搜索算法来解决。\n",
    "1. 遍历整个二维网格，对于每个网格单元 grid[i][j]，如果它的值为 '1'，则从该位置开始进行深度优先搜索。\n",
    "2. 在深度优先搜索过程中，将与该陆地单元相邻的陆地单元都标记为已访问，这样可以避免重复访问。\n",
    "3. 每进行一次深度优先搜索，就意味着找到了一个岛屿，岛屿数量加 1。\n",
    "4. 当遍历完整个网格后，得到的岛屿数量就是最终的结果。\n",
    "\n",
    "时间复杂度：由于对于二维网格中的每个单元，最多访问一次，因此时间复杂度为O(mn)，m是网格的行数，n是网格的列数."
   ]
  },
  {
   "cell_type": "code",
   "execution_count": 16,
   "metadata": {},
   "outputs": [
    {
     "name": "stdout",
     "output_type": "stream",
     "text": [
      "岛屿数量: 1\n",
      "岛屿数量: 3\n"
     ]
    }
   ],
   "source": [
    "# add your code here\n",
    "# your algorithm time complexity is:O(mn)\n",
    "def numIslands(grid):\n",
    "    def dfs(i, j):\n",
    "        if i < 0 or i >= len(grid) or j < 0 or j >= len(grid[0]) or grid[i][j] == '0':\n",
    "            return\n",
    "        grid[i][j] = '0'\n",
    "        dfs(i + 1, j)\n",
    "        dfs(i - 1, j)\n",
    "        dfs(i, j + 1)\n",
    "        dfs(i, j - 1)\n",
    "\n",
    "    islands = 0\n",
    "    for i in range(len(grid)):\n",
    "        for j in range(len(grid[0])):\n",
    "            if grid[i][j] == '1':\n",
    "                dfs(i, j)\n",
    "                islands += 1\n",
    "    return islands\n",
    "\n",
    "grid1 = [\n",
    "    [\"1\", \"1\", \"1\", \"1\", \"0\"],\n",
    "    [\"1\", \"1\", \"0\", \"1\", \"0\"],\n",
    "    [\"1\", \"1\", \"0\", \"0\", \"0\"],\n",
    "    [\"0\", \"0\", \"0\", \"0\", \"0\"]\n",
    "]\n",
    "print(\"岛屿数量:\", numIslands(grid1))\n",
    "\n",
    "grid2 = [\n",
    "    [\"1\", \"1\", \"0\", \"0\", \"0\"],\n",
    "    [\"1\", \"1\", \"0\", \"0\", \"0\"],\n",
    "    [\"0\", \"0\", \"1\", \"0\", \"0\"],\n",
    "    [\"0\", \"0\", \"0\", \"1\", \"1\"]\n",
    "]\n",
    "print(\"岛屿数量:\", numIslands(grid2))"
   ]
  }
 ],
 "metadata": {
  "kernelspec": {
   "display_name": "Python 3",
   "language": "python",
   "name": "python3"
  },
  "language_info": {
   "codemirror_mode": {
    "name": "ipython",
    "version": 3
   },
   "file_extension": ".py",
   "mimetype": "text/x-python",
   "name": "python",
   "nbconvert_exporter": "python",
   "pygments_lexer": "ipython3",
   "version": "3.10.1"
  }
 },
 "nbformat": 4,
 "nbformat_minor": 2
}
