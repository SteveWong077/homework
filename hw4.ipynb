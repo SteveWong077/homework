{
 "cells": [
  {
   "cell_type": "markdown",
   "metadata": {},
   "source": [
    "## algorithm design and anlysis-2025 spring  homework 4\n",
    "**Deadline**：2025.5.14\n",
    "\n",
    "**name**:\n",
    "\n",
    "\n",
    "note：\n",
    "---\n",
    "1. 带有\\*的题目，申请免上课的同学，必须完成，其他同学选作；\n",
    "2. 请独立完成，如求助了他人或者大模型，请著明，并且不可省略算法分析部分；\n",
    "4. 如若作答有雷同，全部取消成绩；\n",
    "3. 需要书面作答的题目，可以通过引用图片的形式添加，但是注意上传项目时包含所引用的图片的源文件；\n",
    "4. $log_n$ 默认表示$log_2{n}$;"
   ]
  },
  {
   "cell_type": "markdown",
   "metadata": {},
   "source": [
    "## 问题 1 \n",
    "**最小生成树（Minimum Spanning Tree）**\n",
    "\n",
    "设  **G**  为一个带权重的连通无向图，且所有边的权重均不相等。令$e_i$ 为权重第 $i$ 小的边。最小生成树（MST）是否必须包含 $e_1$ ? 同理，是否必须包含 $e_2$ 和 $e_3$ ? 若必须包含，请给出证明；否则，请构造反例。需从基本原理论证，不能依赖割引理(cut lemma) 或 Prim/Kruskal算法的正确性。\n"
   ]
  },
  {
   "cell_type": "markdown",
   "metadata": {},
   "source": [
    "1. 最小生成树是否必须包含e1？\n",
    "假设 MST 不包含 e1。由于图是连通的，所以可以将e1加入 MST 中，这会形成一个唯一的环，因为 MST 是一棵树，加入任意一条边都会形成唯一一个环。在这个环中至少存在一条比e1更大的边e'，可以用e1替换掉这条更大的边e',从而得到一棵总权重更小的生成树。但这与原树是最小生成树矛盾！因此，e1必须出现在 MST 中。\n",
    "\n",
    "2. 最小生成树是否必须包含e2？\n",
    "假设 MST 不包含e2。因为 MST 已经包含了e1,否则就不是最优的。现在我们把e2加入MST，也一定会形成一个唯一的环。在这个环中一定有另一条不在 MST 中的边e',其权重大于e2，因为所有边权重互不相同。所以可以用e2替换e',得到一个更小的总权重的生成树，矛盾.所以，e2也必须出现在 MST 中。\n",
    "\n",
    "3. 最小生成树是否必须包含e3？\n",
    "\n",
    "   - 反例：构造一个图 \\(G=(V, E)\\)，\\(V=\\{a, b, c, d\\}\\)，边集 \\(E = \\{e1=(a, b), e2=(b, c), e3=(c, d), e4=(a, d), e5=(a, c)\\}\\)，权重 \\(w(e1)=1\\)，\\(w(e2)=2\\)，\\(w(e3)=4\\)，\\(w(e4)=3\\)，\\(w(e5)=5\\)。\n",
    "   - 最小生成树 \\(T=\\{e1, e2, e4\\}\\)，其权重 \\(w(T)=1+2+3 = 6\\)。\n",
    "   - 由于 \\(e3\\) 不在最小生成树 \\(T\\) 中，所以最小生成树不一定包含 \\(e3\\)。"
   ]
  },
  {
   "cell_type": "markdown",
   "metadata": {},
   "source": [
    "## 问题 2 \n",
    "**瓶颈生成树（Bottleneck Spanning Tree）**\n",
    "\n",
    "带有权重的无向图 $G(V,E,w)$ 的瓶颈生成树，表现为：在所有生成树中，最大权重边的权重值最小。即，BST $T$ 最小化瓶颈损失 $c(T)=max_{e \\in T}{w(e)}$。\n",
    "\n",
    "1. 证明 $G$ 的每一个最小生成树（MST）都是瓶颈生成树（BST）\n",
    "2. 设计一个线性时间复杂度的算法：， 对于一个图 $G(V,E,w)$ 和一个整数 $b$，判断图 $ G$ 是否存在一个瓶颈生成树，其最大权重边的权重不超过 $b$，分析算法设计思路，并基于python编程实现。\n",
    "3. 设计一个线性时间复杂度的算法：对于给定的图 $G(V,E,w)$，找到其瓶颈生成树，分析算法设计思路，并基于python编程实现。"
   ]
  },
  {
   "cell_type": "markdown",
   "metadata": {},
   "source": [
    "idea："
   ]
  },
  {
   "cell_type": "markdown",
   "metadata": {},
   "source": [
    "1. **证明 \\(G\\) 的每一个最小生成树（MST）都是瓶颈生成树（BST）** --(借用了大模型)\n",
    "   - 假设 \\(T\\) 是图 \\(G=(V, E, w)\\) 的一棵最小生成树，其边权集合为 \\(\\{w(e_1), w(e_2), \\cdots, w(e_{|V|-1})\\}\\)，且 \\(w(e_1)\\leq w(e_2)\\leq\\cdots\\leq w(e_{|V|-1})\\)。\n",
    "   - 采用反证法，假设 \\(T\\) 不是瓶颈生成树，那么存在另一棵生成树 \\(T'\\)，使得 \\(T'\\) 的最大边权 \\(c(T') = w_{max}'\\lt w(e_{|V|-1})\\)。\n",
    "   - 由于 \\(T\\) 是最小生成树，其权重 \\(w(T)=\\sum_{i = 1}^{|V|-1}w(e_i)\\)。而对于 \\(T'\\)，设其边权为 \\(\\{w_1', w_2', \\cdots, w_{|V|-1}'\\}\\)，且 \\(w_{max}'=\\max\\{w_1', w_2', \\cdots, w_{|V|-1}'\\}\\)。\n",
    "   - 考虑 \\(T'\\) 的边权和 \\(w(T')=\\sum_{i = 1}^{|V|-1}w_i'\\)。因为 \\(w_{max}'\\lt w(e_{|V|-1})\\)，且 \\(T'\\) 是生成树，若 \\(w(T')\\lt w(T)\\)，这与 \\(T\\) 是最小生成树矛盾。所以假设不成立，即 \\(G\\) 的每一个最小生成树（MST）都是瓶颈生成树（BST）。\n",
    "\n"
   ]
  },
  {
   "cell_type": "markdown",
   "metadata": {},
   "source": [
    "2. **设计一个线性时间复杂度的算法判断图 \\(G(V,E,w)\\) 是否存在一个瓶颈生成树，其最大权重边的权重不超过 \\(b\\)**\n",
    "   - **算法设计思路**：\n",
    "     - 我们可以使用并查集数据结构。首先将图中的边按照权重从小到大排序。\n",
    "     - 然后依次处理这些边，当处理一条边 \\((u, v)\\) 时，检查 \\(u\\) 和 \\(v\\) 是否在同一个连通分量中。\n",
    "     - 如果不在同一个连通分量中，则将它们合并，并检查这条边的权重是否大于 \\(b\\)。\n",
    "     - 如果在处理完 \\(|V|-1\\) 条边后，所有顶点都在同一个连通分量中，并且没有遇到权重大于 \\(b\\) 的边，那么就存在这样的瓶颈生成树；否则不存在。"
   ]
  },
  {
   "cell_type": "code",
   "execution_count": 1,
   "metadata": {},
   "outputs": [
    {
     "name": "stdout",
     "output_type": "stream",
     "text": [
      "True\n"
     ]
    }
   ],
   "source": [
    "# add your code here\n",
    "# algorithm of the liear time complexity \n",
    "def find(parent, i):\n",
    "    if parent[i] == i:\n",
    "        return i\n",
    "    return find(parent, parent[i])\n",
    "\n",
    "\n",
    "def union(parent, rank, x, y):\n",
    "    xroot = find(parent, x)\n",
    "    yroot = find(parent, y)\n",
    "    if rank[xroot] < rank[yroot]:\n",
    "        parent[xroot] = yroot\n",
    "    elif rank[xroot] > rank[yroot]:\n",
    "        parent[yroot] = xroot\n",
    "    else:\n",
    "        parent[yroot] = xroot\n",
    "        rank[xroot] += 1\n",
    "\n",
    "\n",
    "def has_bottleneck(G, b):\n",
    "    edges = []\n",
    "    for u in G:\n",
    "        for v, w in G[u]:\n",
    "            edges.append((u, v, w))\n",
    "    edges.sort(key=lambda x: x[2])\n",
    "\n",
    "    parent = {v: v for v in G}\n",
    "    rank = {v: 0 for v in G}\n",
    "    count = 0\n",
    "    for u, v, w in edges:\n",
    "        if find(parent, u) != find(parent, v):\n",
    "            union(parent, rank, u, v)\n",
    "            count += 1\n",
    "            if w > b:\n",
    "                return False\n",
    "        if count == len(G) - 1:\n",
    "            return True\n",
    "    return False\n",
    "\n",
    "G = {\n",
    "    1: [(2, 2), (3, 4)],\n",
    "    2: [(1, 2), (3, 1)],\n",
    "    3: [(1, 4), (2, 1)]\n",
    "}\n",
    "b = 2\n",
    "print(has_bottleneck(G, b))"
   ]
  },
  {
   "cell_type": "markdown",
   "metadata": {},
   "source": [
    "3. **设计一个线性时间复杂度的算法找到图 \\(G(V,E,w)\\) 的瓶颈生成树**\n",
    "   - **算法设计思路**：\n",
    "     - 同样使用并查集。先将图的边按权重从小到大排序。\n",
    "     - 依次添加边到候选生成树中，只要添加边后不形成环（通过并查集判断）。\n",
    "     - 当添加了 \\(|V|-1\\) 条边后，得到的生成树就是瓶颈生成树（因为我们是按边权从小到大添加边的）。"
   ]
  },
  {
   "cell_type": "code",
   "execution_count": 2,
   "metadata": {},
   "outputs": [
    {
     "name": "stdout",
     "output_type": "stream",
     "text": [
      "[(2, 3, 1), (1, 2, 2)]\n"
     ]
    }
   ],
   "source": [
    "def find(parent, i):\n",
    "    if parent[i] == i:\n",
    "        return i\n",
    "    return find(parent, parent[i])\n",
    "\n",
    "\n",
    "def union(parent, rank, x, y):\n",
    "    xroot = find(parent, x)\n",
    "    yroot = find(parent, y)\n",
    "    if rank[xroot] < rank[yroot]:\n",
    "        parent[xroot] = yroot\n",
    "    elif rank[xroot] > rank[yroot]:\n",
    "        parent[yroot] = xroot\n",
    "    else:\n",
    "        parent[yroot] = xroot\n",
    "        rank[xroot] += 1\n",
    "\n",
    "\n",
    "def bottleneck_spanning_tree(G):\n",
    "    edges = []\n",
    "    for u in G:\n",
    "        for v, w in G[u]:\n",
    "            edges.append((u, v, w))\n",
    "    edges.sort(key=lambda x: x[2])\n",
    "\n",
    "    parent = {v: v for v in G}\n",
    "    rank = {v: 0 for v in G}\n",
    "    mst = []\n",
    "    count = 0\n",
    "    for u, v, w in edges:\n",
    "        if find(parent, u) != find(parent, v):\n",
    "            union(parent, rank, u, v)\n",
    "            mst.append((u, v, w))\n",
    "            count += 1\n",
    "        if count == len(G) - 1:\n",
    "            break\n",
    "    return mst\n",
    "\n",
    "G = {\n",
    "    1: [(2, 2), (3, 4)],\n",
    "    2: [(1, 2), (3, 1)],\n",
    "    3: [(1, 4), (2, 1)]\n",
    "}\n",
    "print(bottleneck_spanning_tree(G))"
   ]
  },
  {
   "cell_type": "markdown",
   "metadata": {},
   "source": [
    "## 问题 3\n",
    "\n",
    "**道路网（Road Network）**\n",
    "\n",
    "假设有一个以图 $ G(V, E, l) $ 表示的道路网络，连接了一组城市 $ V $。我们假设该网络是有向的，并且每条道路 $(u, v) \\in E$ 都有一个非负的长度 $ l(u, v) $。一条新的道路即将被建造，因此有一个列表 $ E' $ 包含它可以连接的城市对。每对 $(u, v) \\in E'$ 都有一个对应的长度 $ l'(u, v) $。我们希望选择一对城市，使得两个城市 $ s, t \\in V $ 之间的距离减少最大。请为此问题编写一个高效的算法，并详细解释算法的正确性和复杂度。\n"
   ]
  },
  {
   "cell_type": "markdown",
   "metadata": {},
   "source": [
    "**算法设计思路**：(借用了大模型)\n",
    "1. 首先，使用 Dijkstra 算法计算出原始图 \\(G(V, E, l)\\) 中从源点 \\(s\\) 到所有其他顶点 \\(t \\in V\\) 的最短路径距离，记为 $dist[s][t]$。\n",
    "2. 对于列表 \\(E'\\) 中的每一对城市 \\((u, v)\\)：\n",
    "    - 假设添加边 \\((u, v)\\) 到图 \\(G\\) 中，再次使用 Dijkstra 算法计算从 \\(s\\) 到所有其他顶点 \\(t \\in V\\) 的最短路径距离，记为 $new_dist[s][t]$。\n",
    "    - 计算添加边 \\((u, v)\\) 后，从 \\(s\\) 到所有顶点 \\(t\\) 的距离减少量 $\\Delta dist[s][t] = dist[s][t] - new_dist[s][t]$。\n",
    "    - 记录所有 $\\Delta dist[s][t]$ 中的最大值 $\\max\\_delta$，以及对应的边 \\((u, v)\\)。\n",
    "3. 最终返回使得距离减少最大的边 \\((u, v)\\) 以及最大距离减少量 $\\max\\_delta$。\n",
    "\n",
    "**证明算法正确性**:\n",
    "该算法的正确性基于 Dijkstra 算法的正确性。Dijkstra 算法能正确计算出图中从一个源点到其他所有顶点的最短路径距离。通过在添加新边前后分别计算最短路径距离，并比较它们的差值，我们能够准确地计算出添加每条可能的新边后对 \\(s\\) 到 \\(t\\) 距离的影响。因为我们遍历了所有可能的新边 $(u, v) \\in E'$，所以能够找到使得 \\(s\\) 到 \\(t\\) 距离减少最大的那一条边。\n",
    "\n",
    "**算法复杂度分析**：\n",
    "1. 计算原始图的最短路径：使用 Dijkstra 算法，时间复杂度为$O((|V| + |E|)\\log|V|)$其中 \\(|V|\\) 是顶点数，\\(|E|\\) 是边数。\n",
    "2. 对于每一对 $(u, v) \\in E'$：\n",
    "    - 添加边 \\((u, v)\\) 后再次计算最短路径，每次计算的时间复杂度为 $O((|V| + |E|)\\log|V|)$\n",
    "    - 因为 \\(|E'|\\) 是可能添加的边的数量，所以这部分的总时间复杂度为 $(|E'|(|V| + |E|)\\log|V|)$\n",
    "3. 总的时间复杂度为 $O((|V| + |E|)\\log|V| + |E'|(|V| + |E|)\\log|V|) = O(|E'|(|V| + |E|)\\log|V|)$\n"
   ]
  },
  {
   "cell_type": "code",
   "execution_count": 4,
   "metadata": {},
   "outputs": [
    {
     "name": "stdout",
     "output_type": "stream",
     "text": [
      "最佳边: None, 最大距离减少量: 0\n"
     ]
    }
   ],
   "source": [
    "import heapq\n",
    "\n",
    "def dijkstra(graph, start):\n",
    "    distances = {node: float('inf') for node in graph}\n",
    "    distances[start] = 0\n",
    "    priority_queue = [(0, start)]\n",
    "\n",
    "    while priority_queue:\n",
    "        current_distance, current_node = heapq.heappop(priority_queue)\n",
    "\n",
    "        if current_distance > distances[current_node]:\n",
    "            continue\n",
    "\n",
    "        for neighbor, weight in graph[current_node].items():\n",
    "            distance = current_distance + weight\n",
    "\n",
    "            if distance < distances[neighbor]:\n",
    "                distances[neighbor] = distance\n",
    "                heapq.heappush(priority_queue, (distance, neighbor))\n",
    "\n",
    "    return distances\n",
    "\n",
    "def find_best_edge(graph, E_prime, s, t):\n",
    "    max_delta = 0\n",
    "    best_edge = None\n",
    "\n",
    "    original_distances = dijkstra(graph, s)\n",
    "\n",
    "    for u, v, l_uv in E_prime:\n",
    "        new_graph = {node: graph[node].copy() for node in graph}\n",
    "        new_graph[u][v] = l_uv\n",
    "\n",
    "        new_distances = dijkstra(new_graph, s)\n",
    "        delta = original_distances[t] - new_distances[t]\n",
    "\n",
    "        if delta > max_delta:\n",
    "            max_delta = delta\n",
    "            best_edge = (u, v)\n",
    "\n",
    "    return best_edge, max_delta\n",
    "graph = {\n",
    "    'A': {'B': 10, 'C': 3},\n",
    "    'B': {'C': 1, 'D': 2},\n",
    "    'C': {'B': 4, 'D': 8, 'E': 2},\n",
    "    'D': {'E': 7},\n",
    "    'E': {'D': 9}\n",
    "}\n",
    "E_prime = [('A', 'D', 5), ('B', 'E', 3)]\n",
    "s = 'A'\n",
    "t = 'E'\n",
    "\n",
    "best_edge, max_delta = find_best_edge(graph, E_prime, s, t)\n",
    "print(f\"最佳边: {best_edge}, 最大距离减少量: {max_delta}\")"
   ]
  },
  {
   "cell_type": "markdown",
   "metadata": {},
   "source": [
    "## 问题 4\n",
    "\n",
    "**逃离问题**\n",
    "\n",
    "一个 $ n \\times n $ 的网格是一个无向图，由 $ n $ 行和 $ n $ 列的顶点组成，如下图所示。我们用 $(i,j)$ 表示第 $ i $ 行和第 $ j $ 列的顶点。除了边界顶点，网格中的所有顶点都有四个邻居，即满足 $ i = 1, i = n, j = 1 $ 或 $ j = n $ 的点 $(i,j)$。\n",
    "\n",
    "给定网格中的 $ m \\leq n^2 $ 个起点 $(x_1, y_1), (x_2, y_2), \\cdots , (x_m, y_m)$，逃离问题是确定是否存在 $ m $ 条顶点不相交的路径（即路径之间不相交），从这些起点到边界上的任意 $ m $ 个不同点。例如，图1中的网格存在逃离。\n",
    "\n",
    "(1) 该问题可以看作是一个最大流问题。考虑一个流网络，其中顶点和边都有容量。也就是说，进入任何给定顶点的总正流量受到容量限制。证明在具有边和顶点容量的网络中确定最大流可以简化为在具有可比大小的普通流网络上的最大流问题。更准确地说，你需要将一个具有顶点和边容量的网络 $ G = (V,E) $ 转换为另一个仅具有边容量的网络 $ G' = (V', E') $，使得两个网络上的最大流相同，并且你构建的新网络具有 $ V' = O(V) $ 个顶点和 $ E' = O(E) $ 条边。你可以假设网络是连通的。\n",
    "\n",
    "(2) 描述一个解决逃离问题的高效算法，并分析其运行时间。\n",
    "\n",
    "\n",
    "<div align=\"center\"> <img alt=\"图片\" src=\"./fig/escepe-p.png\"> </div>\n",
    "<center> 图2. 逃脱问题网格，起始顶点为黑色，其他网格顶点为白色</center>"
   ]
  },
  {
   "cell_type": "markdown",
   "metadata": {},
   "source": [
    "idea："
   ]
  },
  {
   "cell_type": "markdown",
   "metadata": {},
   "source": [
    "(1) **将具有顶点和边容量的网络转换为仅具有边容量的网络**(借用了大模型)\n",
    "\n",
    "设原始网络为 \\(G=(V, E)\\)，其中顶点 $v\\in V$ 具有容量 $c_v$，边 $(u, v)\\in E$ 具有容量 $c_{uv}$。我们构造一个新的网络 $G'=(V', E')$ 如下：\n",
    "\n",
    "1. **顶点构造**：\n",
    "   - 对于原始网络 \\(G\\) 中的每个顶点 $v\\in V$，在新网络 \\(G'\\) 中创建两个顶点 $v_{in}$ 和 $v_{out}$。所以 $|V'| = 2|V|$，满足 $V'=O(V)$。\n",
    "   - 对于源点 \\(s\\) 和汇点 \\(t\\)（如果存在），假设原始源点为 \\(s\\)，则在 \\(G'\\) 中源点为 $s_{out}$；原始汇点为 \\(t\\)，则在 \\(G'\\) 中汇点为$t_{in}$。\n",
    "\n",
    "2. **边构造**：\n",
    "   - 对于原始网络 \\(G\\) 中的每条边 $(u, v)\\in E$，在新网络 \\(G'\\) 中添加一条边 $(u_{out}, v_{in})$，其容量 $c_{u_{out}v_{in}}=c_{uv}$。\n",
    "   - 对于每个顶点 $v\\in V$，在新网络 $G'$ 中添加一条边 $(v_{in}, v_{out})$，其容量 $c_{v_{in}v_{out}} = c_v$。\n",
    "   - 这样，新网络 \\(G'\\) 中的边数 $|E'|=|E| + |V|$，满足 \\(E' = O(E)\\)（因为 \\(|V|\\) 和 \\(|E|\\) 相关，且网络连通，$|E|\\geq|V|- 1$）。\n",
    "\n",
    "3. **正确性证明**：\n",
    "   - 假设在原始网络 \\(G\\) 中有一个流 \\(f\\)，我们可以在新网络 \\(G'\\) 中构造一个对应的流 \\(f'\\)。对于原始网络中通过顶点 \\(v\\) 的流，在新网络中，流从 \\(v_{in}\\) 进入，经过边 $(v_{in}, v_{out})$ 再从 \\(v_{out}\\) 流出。由于边 $(v_{in}, v_{out})$ 的容量为 \\(c_v\\)，保证了顶点容量的限制。同样，对于边的容量，新网络中边 $(u_{out}, v_{in})$ 的容量与原始网络中边 \\((u, v)\\) 的容量相同，所以可以保持边容量的限制。\n",
    "   - 反之，对于新网络 \\(G'\\) 中的任何一个流 \\(f'\\)，我们可以通过将从 $v_{in}$ 到 $v_{out}$ 的流映射回原始网络中通过顶点 \\(v\\) 的流，将从 $u_{out}$ 到 $v_{in}$ 的流映射回原始网络中从 \\(u\\) 到 \\(v\\) 的流，得到原始网络 \\(G\\) 中的一个流 \\(f\\)。因此，两个网络上的最大流是相同的。\n",
    "\n",
    "\n",
    "(2) **解决逃离问题的算法**\n",
    "\n",
    "1. **算法设计思路**：\n",
    "   - 构造一个流网络 \\(G=(V, E)\\)。\n",
    "   - 顶点：\n",
    "     - 对于 $n\\times n$ 网格中的每个点 \\((i, j)\\)，都有一个顶点。添加一个源点 \\(s\\) 和一个汇点 \\(t\\)。\n",
    "     - 源点 \\(s\\) 连接到 \\(m\\) 个起点 $(x_1, y_1),\\cdots,(x_m, y_m)$，边的容量为 \\(1\\)。\n",
    "     - 对于网格中的每个边界点 \\((i, j)\\)（\\(i = 1,i=n,j = 1\\) 或 \\(j = n\\)），连接到汇点 \\(t\\)，边的容量为 \\(1\\)。\n",
    "     - 对于网格中相邻的点 \\((i, j)\\) 和 \\((i', j')\\)（上下左右相邻），添加边 \\(( (i, j),(i', j') )\\)，边的容量为 \\(1\\)。\n",
    "   - 然后，使用一个高效的最大流算法（如 Edmonds - Karp 算法，时间复杂度为 $O(VE^2)$，这里 $V=n^2 + 2$,$E= O(n^2)$来计算从源点 \\(s\\) 到汇点 \\(t\\) 的最大流。\n",
    "   - 如果最大流的值等于 \\(m\\)，则存在 \\(m\\) 条顶点不相交的路径从起点到边界点；否则不存在。\n",
    "\n",
    "2. **时间复杂度分析**：\n",
    "   - 构造流网络的时间复杂度：添加源点、汇点和连接源点到起点、边界点到汇点的边，时间复杂度为 \\(O(m + n)\\)）。添加网格中相邻点之间的边，时间复杂度为 $O(n^2)$。所以构造网络的总时间复杂度为 $O(n^2)$。\n",
    "   - 使用 Edmonds - Karp 算法计算最大流，$V=n^2+2$，$E = O(n^2)$，时间复杂度为 $O(VE^2)=O((n^2 + 2)\\times(n^2)^2)=O(n^6)$。\n",
    "   - 因此，整个算法的时间复杂度为$O(n^6)$。\n"
   ]
  },
  {
   "cell_type": "code",
   "execution_count": null,
   "metadata": {},
   "outputs": [],
   "source": [
    "import networkx as nx\n",
    "\n",
    "def escape_problem(n, m, starts):\n",
    "    G = nx.DiGraph()\n",
    "    \n",
    "    s = 'S'\n",
    "    t = 'T'\n",
    "    G.add_node(s)\n",
    "    G.add_node(t)\n",
    "    for start in starts:\n",
    "        G.add_edge(s, start, capacity = 1)\n",
    "\n",
    "    for i in range(1, n + 1):\n",
    "        for j in range(1, n + 1):\n",
    "            if i == 1 or i == n or j == 1 or j == n:\n",
    "                G.add_edge((i, j), t, capacity = 1)\n",
    "                \n",
    "    for i in range(1, n + 1):\n",
    "        for j in range(1, n + 1):\n",
    "            if i > 1:\n",
    "                G.add_edge((i, j), (i - 1, j), capacity = 1)\n",
    "            if i < n:\n",
    "                G.add_edge((i, j), (i + 1, j), capacity = 1)\n",
    "            if j > 1:\n",
    "                G.add_edge((i, j), (i, j - 1), capacity = 1)\n",
    "            if j < n:\n",
    "                G.add_edge((i, j), (i, j + 1), capacity = 1)\n",
    "\n",
    "    max_flow = nx.maximum_flow_value(G, s, t)\n",
    "    return max_flow == m\n",
    "\n",
    "n = 5\n",
    "m = 3\n",
    "starts = [(2, 2), (3, 3), (4, 4)]\n",
    "print(escape_problem(n, m, starts))"
   ]
  }
 ],
 "metadata": {
  "kernelspec": {
   "display_name": "Python 3",
   "language": "python",
   "name": "python3"
  },
  "language_info": {
   "codemirror_mode": {
    "name": "ipython",
    "version": 3
   },
   "file_extension": ".py",
   "mimetype": "text/x-python",
   "name": "python",
   "nbconvert_exporter": "python",
   "pygments_lexer": "ipython3",
   "version": "3.10.1"
  }
 },
 "nbformat": 4,
 "nbformat_minor": 2
}
