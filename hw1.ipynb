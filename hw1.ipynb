{
 "cells": [
  {
   "cell_type": "markdown",
   "metadata": {},
   "source": [
    "## algorithm design and anlysis-2025 spring  homework 1 \n",
    "**Deadline**：2025.5.14\n",
    "\n",
    "**name**:\n",
    "\n",
    "\n",
    "note：\n",
    "---\n",
    "1. 带有\\*的题目，申请免上课的同学，必须完成，其他同学选作；\n",
    "2. 请独立完成，如求助了他人或者大模型，请著明，并且不可省略算法分析部分；\n",
    "4. 如若作答有雷同，全部取消成绩；\n",
    "3. 需要书面作答的题目，可以通过引用图片的形式添加，但是注意上传项目时包含所引用的图片的源文件；\n",
    "4. $log_n$ 默认表示$log_2{n}$;"
   ]
  },
  {
   "cell_type": "markdown",
   "metadata": {},
   "source": [
    "## 问题 1\n",
    "\n",
    "对于下面的每一对表达式(A, B), A是否能表示为B的 $\\Theta, \\Omega ,O$形式. 请注意, 这些关系中的零个、一个或多个可能成立。列出所有正确的。经常发生一些学生会,把指示写错, 所以请把关系写完整, 例如: $A = O(B),  A =\\Theta(B)$, 或$A = \\Omega(B)$。\n",
    "\n",
    "1. $A=n^2-100n, B=n^2$\n",
    "2. $A=logn, B=log_{1.2}n$\n",
    "3. $A=3^{2n}, B=2^{4n}$\n",
    "4. $A=2^{logn}, B=n$\n",
    "5. $A=\\log{\\log}{n},B=10^{10^{100}}$"
   ]
  },
  {
   "cell_type": "markdown",
   "metadata": {},
   "source": [
    "can refer a handwritten picture, pleas upload the picture in /fig/xxx.png\n",
    "answer:\n"
   ]
  },
  {
   "cell_type": "markdown",
   "metadata": {},
   "source": [
    "###  /fig/hw1-1-answer"
   ]
  },
  {
   "cell_type": "markdown",
   "metadata": {},
   "source": [
    "## 问题 2：\n",
    "\n",
    "假设有函数 $f$ 和 $g$ 使得 $f(n)$ = $O(g(n))$ 对于下面的每一个陈述, 请判断对错, 如果正确请给出证明, 否则请给出一个反例。\n",
    "\n",
    "1. $\\log{f(n)}$ = $O(\\log(1+g(n)))$\n",
    "2. $3^{f(n)}=O(3^{g(n)})$\n",
    "3. $(f(n))^2=O((g(n))^2)$ "
   ]
  },
  {
   "cell_type": "markdown",
   "metadata": {},
   "source": [
    "you can refer a handwritten picture, pleas upload the picture in /fig/xxx.png\n",
    "answer:"
   ]
  },
  {
   "cell_type": "markdown",
   "metadata": {},
   "source": [
    "### /fig/hw1-2-answer"
   ]
  },
  {
   "cell_type": "markdown",
   "metadata": {},
   "source": [
    "## 问题 3\n",
    "\n",
    "根据下列递归公式, 计算下列 $T(n)$ 对应的的渐近上界。要求所求的边界尽可能的紧（tight）, 请写明步骤。\n",
    "\n",
    "1. $T(1)=1; T(n)=T(n/4)+1$ for $n>1$\n",
    "2. $T(1)=1;T(n)=3T(n/3)+n^2$ for $n>1$\n",
    "3. $T(1)=1;T(n)=T(2n/3)+1$ for $n>1$\n",
    "4. $T(1)=1;T(n)=5T(n/4)+n$ for $n>1$\n",
    "5. $T(n)=1 \\ for\\ n \\le 2 ; T(n)=T(\\sqrt{n})+1 \\ for \\ n>2$"
   ]
  },
  {
   "cell_type": "markdown",
   "metadata": {},
   "source": [
    "can refer a handwritten picture, pleas upload the picture in /fig/xxx.png\n",
    "answer:"
   ]
  },
  {
   "cell_type": "markdown",
   "metadata": {},
   "source": [
    "### /fig/hw1-3-answer"
   ]
  },
  {
   "cell_type": "markdown",
   "metadata": {},
   "source": [
    "## 问题 4：\n",
    "\n",
    "给定一个包含n个元素的数组 `profits` , 它的第 `i` 个元素 `profits[i]` 表示一支股票第 `i` 天的**收益**（正数表示涨, 负数表示跌）。你只能选择 **某一天** 买入这只股票, 并选择在 **未来的某一个不同的日子** 卖出该股票。\n",
    "\n",
    "1. 设计一个算法来计算你所能获取的最大利润和对应买入和卖出的日期。请分析算法方案, 计算其时间复杂度, 并且使用python编程实现该算法。\n",
    "\n",
    "2. \\* 设计一个时间复杂度为 $O(n)$的算法实现该算法\n",
    "\n",
    "e.g. :\n",
    "---\n",
    "profits=[3,2,1,-7,5,2,-1,3,-1], 第5天买入, 第8天卖出, 收益最大：9\n",
    "\n"
   ]
  },
  {
   "cell_type": "markdown",
   "metadata": {},
   "source": [
    "idea:"
   ]
  },
  {
   "cell_type": "markdown",
   "metadata": {},
   "source": [
    "通过两层循环遍历所有可能的买入和卖出日期组合，计算每种组合的利润，找出最大利润以及对应的买入和卖出日期。\n",
    "时间复杂度：O(n2)，因为使用了两层嵌套循环。"
   ]
  },
  {
   "cell_type": "code",
   "execution_count": 12,
   "metadata": {},
   "outputs": [
    {
     "name": "stdout",
     "output_type": "stream",
     "text": [
      "最大利润: 6, 买入日期: 5, 卖出日期: 6\n"
     ]
    }
   ],
   "source": [
    "# add your code\n",
    "def max_profit(profits):\n",
    "    n = len(profits)\n",
    "    if n < 2:\n",
    "        return 0, 0, 0\n",
    "    max_profit = 0\n",
    "    buy_day = 0\n",
    "    sell_day = 0\n",
    "    \n",
    "    for i in range(n):\n",
    "        for j in range(i + 1, n):\n",
    "            current_profit = profits[j] - profits[i]\n",
    "            if current_profit > max_profit:\n",
    "                max_profit = current_profit\n",
    "                buy_day = i\n",
    "                sell_day = j\n",
    "    \n",
    "    return max_profit, buy_day, sell_day\n",
    "\n",
    "profits = [6, 3, 2, 4, 7, 1,7]\n",
    "max_profit, buy_day, sell_day = max_profit(profits)\n",
    "print(f\"最大利润: {max_profit}, 买入日期: {buy_day}, 卖出日期: {sell_day}\")\n",
    "    "
   ]
  },
  {
   "cell_type": "code",
   "execution_count": 16,
   "metadata": {},
   "outputs": [
    {
     "name": "stdout",
     "output_type": "stream",
     "text": [
      "最大利润: 6, 买入日期: 5, 卖出日期: 6\n"
     ]
    }
   ],
   "source": [
    "# an algorithm with O(n)\n",
    "def max_profit(profits):\n",
    "    n = len(profits)\n",
    "    if n < 2:\n",
    "        return 0, 0, 0\n",
    "    min_price = profits[0]\n",
    "    min_day = 0\n",
    "    max_profit = 0\n",
    "    buy_day = 0\n",
    "    sell_day = 0\n",
    "    for i in range(1, n):\n",
    "        if profits[i] < min_price:\n",
    "            min_price = profits[i]\n",
    "            min_day = i\n",
    "        profit = profits[i] - min_price\n",
    "        if profit > max_profit:\n",
    "            max_profit = profit\n",
    "            buy_day = min_day\n",
    "            sell_day = i\n",
    "    return max_profit, buy_day, sell_day\n",
    "\n",
    "profits = [6, 3, 2, 4, 7, 1,7]\n",
    "max_profit, buy_day, sell_day = max_profit(profits)\n",
    "print(f\"最大利润: {max_profit}, 买入日期: {buy_day}, 卖出日期: {sell_day}\")\n",
    "    "
   ]
  },
  {
   "cell_type": "markdown",
   "metadata": {},
   "source": [
    "## 问题 5：\n",
    "\n",
    "观察下方的分治算法（divide-and-conquer algorithm）的伪代码, 回答下面问题\n",
    "\n",
    "```latex\n",
    "DoSomething(A,p,r)\n",
    "-----\n",
    "n := r-p+1\n",
    "if n=2 and A[p]>A[r] then\n",
    "    swap A[p] and A[r]\n",
    "else if n >= 3 then\n",
    "    m = ceil(2n/3)\n",
    "    DoSomething(A,p,p+m-1)\n",
    "    DoSomething(A,r-m+1,r)\n",
    "    DoSomething(A,p,p+m-1)  \n",
    "    \n",
    "---\n",
    "first call: DoSomething(A,1,n)\n",
    "```\n",
    "\n",
    "note：$ceil(2n/3)=\\left\\lceil {2n/3} \\right\\rceil$；$:=$ 表示赋值, 等价于 $\\to$；A是一个包含n的整数元素的数组, \n",
    "\n",
    "1. 写出该算法时间复杂度的递归公式, 并求解其对应的渐进表示\n",
    "2. 描述一下该算法的功能, 并判断是否是最高效的解决方案\n",
    "3. 使用python编程实现上述算法或其对应的更高效版本的算法\n"
   ]
  },
  {
   "cell_type": "markdown",
   "metadata": {},
   "source": [
    "idea："
   ]
  },
  {
   "cell_type": "markdown",
   "metadata": {},
   "source": [
    "1.当 \\(n = 2\\) 时，算法仅需比较 \\(A[p]\\) 和 \\(A[r]\\)，若 \\(A[p]>A[r]\\) 则进行交换，这一系列操作的时间复杂度是常数级别的，可表示为 \\(T(2)=O(1)\\)。\n",
    "当 \\(n\\geq3\\) 时，算法将原问题分解为三个子问题。每个子问题调用 `DoSomething` 函数，子问题的规模为 $(\\lceil\\frac{2n}{3}\\rceil)$。除了递归调用，算法中其他操作（如计算 \\(m\\)）的时间复杂度为常数级别 \\(O(1)\\)。所以，递归公式为 $(T(n)=3T(\\lceil\\frac{2n}{3}\\rceil)+O(1))$。\n",
    "\n",
    "\n",
    "求解渐进表示\n",
    "\n",
    "使用主定理来求解递归公式 $(T(n)=aT(\\frac{n}{b})+f(n))$ 的渐进复杂度，其中 \\(a\\) 是递归调用的次数，$(\\frac{n}{b})$ 是子问题的规模，\\(f(n)\\) 是分解和合并子问题所花费的时间。\n",
    "\n",
    "对于递归公式 $(T(n)=3T(\\frac{2n}{3})+O(1))$，有 \\(a = 3\\)，$(b=\\frac{3}{2})$，\\(f(n)=O(1)\\)。\n",
    "\n",
    "首先，计算 $(n^{\\log_b a})$ 的值，根据对数的换底公式 $(\\log_b a=\\frac{\\ln a}{\\ln b})$，可得：\n",
    "\n",
    "$(\\log_{\\frac{3}{2}}3=\\frac{\\ln 3}{\\ln\\frac{3}{2}}=\\frac{\\ln 3}{\\ln 3-\\ln 2}\\approx 2.71)$\n",
    "\n",
    "所以 $(n^{\\log_b a}=n^{\\log_{\\frac{3}{2}}3})$。\n",
    "\n",
    "接下来，比较 \\(f(n)\\) 和 $(n^{\\log_b a})$ 的增长速度。因为 $(f(n)=O(1)=O(n^{\\log_{\\frac{3}{2}}3-\\epsilon}))$（其中 $(\\epsilon>0)$ ），根据主定理的第一种情况：\n",
    "\n",
    "若 $(f(n)=O(n^{\\log_b a-\\epsilon}))$，$(\\epsilon>0)$，则 $(T(n)=\\Theta(n^{\\log_b a}))$。\n",
    "\n",
    "所以，该算法时间复杂度的渐进表示为 $(T(n)=\\Theta(n^{\\log_{\\frac{3}{2}}3})\\approx\\Theta(n^{2.71}))$。\n",
    "\n",
    "综上，该算法时间复杂度的递归公式为 $(T(n)=\\begin{cases}O(1),&n = 2\\\\3T(\\lceil\\frac{2n}{3}\\rceil)+O(1),&n\\geq3\\end{cases})$，其渐进表示为 $(T(n)=\\Theta(n^{\\log_{\\frac{3}{2}}3}))$。 \n"
   ]
  },
  {
   "cell_type": "markdown",
   "metadata": {},
   "source": [
    "2.此算法主要对数组元素顺序进行调整。当数组长度为 2 时，若前元素大于后元素则交换；长度大于等于 3 时，将数组大致划分，通过三次递归调用处理子数组来调整元素顺序，使数组在一定程度上有序。\n",
    "\n",
    "该算法不是最高效方案。其时间复杂度约为 $(\\Theta(n^{2.71}))$，而常见高效排序算法如快排、归并排序平均时间复杂度为 \\(O(nlog n)\\)，且算法存在对部分子数组重复处理的情况，增加了计算开销。 "
   ]
  },
  {
   "cell_type": "code",
   "execution_count": 21,
   "metadata": {},
   "outputs": [
    {
     "name": "stdout",
     "output_type": "stream",
     "text": [
      "[1, 1, 2, 2, 3, 3, 3, 4, 6, 7, 9]\n"
     ]
    }
   ],
   "source": [
    "# add your code here\n",
    "# your algorithm time complexity is :\n",
    "def DoSomething(A, p, r):\n",
    "    n = r - p + 1\n",
    "    if n == 2 and A[p - 1] > A[r - 1]:\n",
    "        A[p - 1], A[r - 1] = A[r - 1], A[p - 1]\n",
    "    elif n >= 3:\n",
    "        m = (2 * n + 2) // 3\n",
    "        DoSomething(A, p, p + m - 1)\n",
    "        DoSomething(A, r - m + 1, r)\n",
    "        DoSomething(A, p, p + m - 1)\n",
    "\n",
    "A = [7, 2, 4, 3, 1, 9, 2, 3, 6, 3, 1]\n",
    "n = len(A)\n",
    "DoSomething(A, 1, n)\n",
    "print(A)\n",
    "    "
   ]
  },
  {
   "cell_type": "markdown",
   "metadata": {},
   "source": [
    "## 问题 6：\n",
    "\n",
    "给定一个大小为 `n` 的数组 `nums` , 返回其中的多数元素。多数元素是指在数组中出现次数 **大于** `⌊ n/2 ⌋` 的元素。\n",
    "\n",
    "你可以假设数组是非空的, 并且给定的数组总是存在多数元素。\n",
    "\n",
    "1. 设计一个算法找到给定数组的多数元素, 分析算法设计思路, 计算算法时间复杂度, 使用python编程实现\n",
    "2. \\* 设计时间复杂度为 O(n)、空间复杂度为 O(1) 的算法解决此问题, 分析算法设计思路, 使用python编程实现\n",
    "\n",
    "e.g.:\n",
    "---\n",
    "1. nums=[3,2,3], 返回3\n",
    "2. nums=[2,2,1,1,1,2,2], 返回2\n"
   ]
  },
  {
   "cell_type": "markdown",
   "metadata": {},
   "source": [
    "idea："
   ]
  },
  {
   "cell_type": "markdown",
   "metadata": {},
   "source": [
    "排序法：将数组排序后，多数元素一定会出现在中间位置 n/2。排序的时间复杂度：O(n log n)"
   ]
  },
  {
   "cell_type": "code",
   "execution_count": 30,
   "metadata": {},
   "outputs": [
    {
     "name": "stdout",
     "output_type": "stream",
     "text": [
      "2\n"
     ]
    }
   ],
   "source": [
    "# add your code here\n",
    "# your algorithm time complexity is :\n",
    "def majority_sort(nums):\n",
    "    nums.sort()\n",
    "    return nums[len(nums) // 2]\n",
    "nums = [2,2,1,1,1,2,2]\n",
    "print(majority_sort(nums))"
   ]
  },
  {
   "cell_type": "markdown",
   "metadata": {},
   "source": [
    "idea for 2\\*："
   ]
  },
  {
   "cell_type": "markdown",
   "metadata": {},
   "source": [
    "多数元素查找算法：该算法的核心思想是在每一轮投票过程中，从数组中找出一对不同的元素并将其从数组中删除，直到数组为空或只有一种元素。由于多数元素的出现次数大于  n/2 ，所以最终剩下的元素必然是多数元素。\n",
    "时间复杂度：该算法只需要对数组进行一次遍历，因此时间复杂度为O(n)，其中n是数组的长度。\n",
    "空间复杂度：只使用了常数空间，因此空间复杂度为O(1)。\n"
   ]
  },
  {
   "cell_type": "code",
   "execution_count": 25,
   "metadata": {},
   "outputs": [
    {
     "name": "stdout",
     "output_type": "stream",
     "text": [
      "3\n",
      "2\n"
     ]
    }
   ],
   "source": [
    "# algorithm time complexity：O(n), space complexity:O(1)\n",
    "# add your code here\n",
    "def majorityElement(nums):\n",
    "    candidate = nums[0]\n",
    "    count = 1\n",
    "    for num in nums[1:]:\n",
    "        if num == candidate:\n",
    "            count += 1\n",
    "        else:\n",
    "            count -= 1\n",
    "            if count == 0:\n",
    "                candidate = num\n",
    "                count = 1\n",
    "    return candidate\n",
    "\n",
    "nums1 = [3, 2, 3]\n",
    "print(majorityElement(nums1))  \n",
    "\n",
    "nums2 = [2, 2, 1, 1, 1, 2, 2]\n",
    "print(majorityElement(nums2))  \n",
    "    "
   ]
  },
  {
   "cell_type": "markdown",
   "metadata": {},
   "source": [
    "## 问题 7：\n",
    "\n",
    "给定一个包含不同整数元素的数组 $ A[1..n]$ ,并且满足条件：$A[1]>A[2]$ 并且 $A[n-1]<A[n]$; 规定：如果一个元素比它两边的邻居元素都小, 即：$A[x]<A[x-1], A[x]<A[x+1]$ , 称这个元素A[x]为“局部最小”。通过遍历一次数组, 我们可以很容易在 $O(n)$的时间复杂度下找到一个局部最小值, \n",
    "\n",
    "\n",
    "1. 分析该问题, 设计一个算法在$O(logn)$的时间复杂度下找到一个局部最小(返回数值), 要求：分析算法设计思路, 并且使用python编程实现\n",
    "2. \\* 设计算法找出所有局部最小值, 分析算法设计思路, 并使用python编程实现\n",
    "\n",
    "e.g.:\n",
    "---\n",
    "A=[9, 3, 7, 2, 1, 4, 5 ] 时,  局部最小元素为 3, 1\n"
   ]
  },
  {
   "cell_type": "markdown",
   "metadata": {},
   "source": [
    "idea："
   ]
  },
  {
   "cell_type": "markdown",
   "metadata": {},
   "source": [
    "1.算法设计思路：由于数组首尾的特点可以得到：数组中至少存在一个局部最小值；可以使用二分搜索策略在 O(log n) 时间复杂度内找到一个局部最小值。\n",
    "核心思想使用二分搜索：\n",
    "取中间元素 mid\n",
    "如果 A[mid] < A[mid-1] 且 A[mid] < A[mid+1]，则 A[mid] 是局部最小值\n",
    "如果 A[mid] > A[mid-1]，说明左侧一定存在局部最小值\n",
    "如果 A[mid] > A[mid+1]，说明右侧一定存在局部最小值"
   ]
  },
  {
   "cell_type": "code",
   "execution_count": 33,
   "metadata": {},
   "outputs": [
    {
     "name": "stdout",
     "output_type": "stream",
     "text": [
      "1\n"
     ]
    }
   ],
   "source": [
    "# add your code here\n",
    "# your algorithm time complexity is :O(logn)\n",
    "def find_local_minimum(A):\n",
    "    n = len(A)\n",
    "    left, right = 0, n - 1\n",
    "    while left < right:\n",
    "        mid = (left + right) // 2\n",
    "        if mid > 0 and mid < n - 1:\n",
    "            if A[mid] < A[mid - 1] and A[mid] < A[mid + 1]:\n",
    "                return A[mid]\n",
    "            elif A[mid] > A[mid - 1]:\n",
    "                right = mid\n",
    "            else:\n",
    "                left = mid + 1\n",
    "        elif mid == 0:\n",
    "            if A[mid] < A[mid + 1]:\n",
    "                return A[mid]\n",
    "            else:\n",
    "                left = mid + 1\n",
    "        else:\n",
    "            if A[mid] < A[mid - 1]:\n",
    "                return A[mid]\n",
    "            else:\n",
    "                right = mid\n",
    "    return A[left]\n",
    "\n",
    "A = [9, 3, 7, 2, 1, 4, 5]\n",
    "print(find_local_minimum(A))\n",
    "    "
   ]
  },
  {
   "cell_type": "markdown",
   "metadata": {},
   "source": [
    "idea:"
   ]
  },
  {
   "cell_type": "markdown",
   "metadata": {},
   "source": [
    "2.算法设计思路：比较直接的方法是对数组进行一次遍历，检查每个元素是否满足局部最小值的条件。这种方法的时间复杂度为 O(n)。从数组的第二个元素开始，到倒数第二个元素结束，依次检查每个元素是否满足局部最小的条件，即该元素比它左右两边的邻居元素都小。同时，对于数组的第一个元素和最后一个元素，只需分别检查其是否小于相邻元素即可。"
   ]
  },
  {
   "cell_type": "code",
   "execution_count": 35,
   "metadata": {},
   "outputs": [
    {
     "name": "stdout",
     "output_type": "stream",
     "text": [
      "[3, 1]\n"
     ]
    }
   ],
   "source": [
    "# add your code here\n",
    "# your algorithm time complexity is :\n",
    "def find_all_local_mini(A):\n",
    "    n = len(A)\n",
    "    local_minima = []\n",
    "\n",
    "    if n > 1 and A[0] < A[1]:\n",
    "        local_minima.append(A[0])\n",
    "    \n",
    "    for i in range(1, n - 1):\n",
    "        if A[i] < A[i - 1] and A[i] < A[i + 1]:\n",
    "            local_minima.append(A[i])\n",
    " \n",
    "    if n > 1 and A[n - 1] < A[n - 2]:\n",
    "        local_minima.append(A[n - 1])\n",
    "\n",
    "    return local_minima\n",
    "\n",
    "A = [9, 3, 7, 2, 1, 4, 5]\n",
    "print(find_all_local_mini(A))\n",
    "    "
   ]
  },
  {
   "cell_type": "markdown",
   "metadata": {},
   "source": [
    "## 问题 8：\n",
    "\n",
    "给定包含n个不同数字的一组数, 寻找一种基于比较的算法在这组数中找到k个最小的数字, 并按顺序输出它们。\n",
    "\n",
    "1. 将n个数先进行排序, 然后按顺序输出最小的k个数。要求：选择合适的排序算法实现上述操作, 计算算法时间复杂度, 并使用python编程实现。\n",
    "2. 建立一个包含这n个数的堆（heap）, 并且调用 k 次Extract-min 按顺序输出最小的k个数。使用往空堆中不断插入元素的方法建立堆, 分析这种方法建堆的时间复杂度, 并使用python编程实现\n",
    "3. \\* 假设数组中包含的数据总数目超过了计算机的存储能力, 请设计一个算法, 找到这堆数据的前k小的数值, 计算时间复杂度, 并使用python实现该算法, 假设计算机一定能存储k个数据。\n",
    "\n",
    "e.g.：\n",
    "---\n",
    "数组arr=[5,4,3,2,6,1,88,33,22,107] 的前3个最小数据为：1, 2, 3\n"
   ]
  },
  {
   "cell_type": "markdown",
   "metadata": {},
   "source": [
    "idea："
   ]
  },
  {
   "cell_type": "code",
   "execution_count": 36,
   "metadata": {},
   "outputs": [
    {
     "name": "stdout",
     "output_type": "stream",
     "text": [
      "前3个最小元素为: [1, 2, 3]\n"
     ]
    }
   ],
   "source": [
    "# add your code here\n",
    "# your algorithm time complexity is :O(nlogn)\n",
    "def find_k_smallest(arr, k):\n",
    "    sorted_arr = sorted(arr)  \n",
    "    return sorted_arr[:k]     \n",
    "\n",
    "arr = [5, 4, 3, 2, 6, 1, 88, 33, 22, 107]\n",
    "k = 3\n",
    "result = find_k_smallest(arr, k)\n",
    "print(\"前{}个最小元素为: {}\".format(k, result))\n"
   ]
  },
  {
   "cell_type": "markdown",
   "metadata": {},
   "source": [
    "2.时间复杂度分析：插入 n 个元素，每次插入 O(log n)。每次执行 Extract - min 操作的时间复杂度为O(logn)，需要执行 k 次，所以取 k 个最小元素的时间复杂度为O(klogn)。故总的时间复杂度为：O(nlogn+klogn)\n"
   ]
  },
  {
   "cell_type": "code",
   "execution_count": 37,
   "metadata": {},
   "outputs": [
    {
     "name": "stdout",
     "output_type": "stream",
     "text": [
      "[1, 2, 3]\n"
     ]
    }
   ],
   "source": [
    "import heapq\n",
    "\n",
    "def find_k_smallest(arr, k):\n",
    "    min_heap = []\n",
    "    for num in arr:\n",
    "        heapq.heappush(min_heap, num)\n",
    "\n",
    "    result = []\n",
    "    for _ in range(k):\n",
    "        result.append(heapq.heappop(min_heap))\n",
    "\n",
    "    return result\n",
    "\n",
    "arr = [5, 4, 3, 2, 6, 1, 88, 33, 22, 107]\n",
    "k = 3\n",
    "print(find_k_smallest(arr, k))\n",
    "    "
   ]
  },
  {
   "cell_type": "markdown",
   "metadata": {},
   "source": [
    "3.时间复杂度分析：对于 n 个元素：每个元素最多参与一次插入和一次弹出操作，且堆最大大小为 k。所以总复杂度为：O(nlogk)."
   ]
  },
  {
   "cell_type": "code",
   "execution_count": 38,
   "metadata": {},
   "outputs": [
    {
     "name": "stdout",
     "output_type": "stream",
     "text": [
      "[1, 2, 3]\n"
     ]
    }
   ],
   "source": [
    "import heapq\n",
    "\n",
    "def find_k_smallest_stream(arr, k):\n",
    "    max_heap = []\n",
    "    \n",
    "    for num in arr:\n",
    "        if len(max_heap) < k:\n",
    "            heapq.heappush(max_heap, -num)  \n",
    "        else:\n",
    "            if num < -max_heap[0]:\n",
    "                heapq.heappop(max_heap)\n",
    "                heapq.heappush(max_heap, -num)\n",
    "    result = sorted([-x for x in max_heap])\n",
    "    return result\n",
    "\n",
    "arr = [5, 4, 3, 2, 6, 1, 88, 33, 22, 107]\n",
    "k = 3\n",
    "print(find_k_smallest_stream(arr, k)) #借助了大模型"
   ]
  },
  {
   "cell_type": "markdown",
   "metadata": {},
   "source": [
    "## 问题 9：\n",
    "\n",
    "**选择问题**:给定一个包含n个未排序值的数组A和一个$k≤n$的整数, 返回A中最小的第k项。\n",
    "\n",
    "在课堂上, 学了一个简单的O(n)随机算法来解决选择问题。事实上还有一种更复杂的最坏情况下时间复杂度为$O(n)$ 的选择算法。假设使用一个黑盒过程来实现这个O(n)选择算法: 给定一个数组A、 $p < r$ 和 k,  $BB(A, p, r, k)$ 可以在$O(r−p+ 1)$时间内找到并报告$A[p..r]$中第k小的项的下标。假设你可以在线性时间内处理Partition过程。\n",
    "\n",
    "1. 请分析如何修改 Quicksork 算法可以使其最差情况下的运行时间为 $O(nlogn)$, 使用伪代码实现, 并分析为何修改后的版本最差情况的运行时间为$O(nlogn)$\n",
    "\n",
    "note: 伪代码中, 你可以直接调用用` BB(A,p,r,k)`这个函数用于表示在最坏情况下时间复杂度为$O(n)$的选择算法；\n",
    "\n",
    "\n",
    "\n",
    "2. 找到一个更好的算法报告数组A中的前k小的项, 使用伪代码表示你的算法, 并分析你算法的时间复杂度。\n",
    "\n",
    "举例：A=[13, 3, 7, 9, 11, 1, 15, 2, 8, 10, 12, 16, 14, 5], 当k=4时, 应该报告1, 2, 3, 4\n",
    "\n",
    "note： 最直观的方法就是先将数组A排序, 然后从左向右报告其前k项, 这样操作的时间复杂度为$O(nlogn)$. 调用用` BB(A,p,r,k)`设计一个算法使其报告无序数组A的前k项, 满足时间复杂度好于$\\Theta(nlogn)$, 并且当$k=\\sqrt{n}$时, 你设计的算法时间复杂度应该为$\\Theta(n)$.\n",
    "\n",
    "\n",
    "\n",
    "3. 给定一个大小为n的数组, 找到一个 时间复杂度为$O(n log k)$ 的算法, 该算法将A中的元素重新排序, 使它们被划分为k个部分, 每个部分的元素小于或等于下一部分的元素。假设n和k都是2的幂。使用伪代码表示你的算法, 并分析时间复杂度。\n",
    "\n",
    "e.g.:\n",
    "---\n",
    "数组：[1,  3,  5,  7,  9,  11,  13,  15,  2,  4,  6,  8,  10,  12,  16,  14], k=4, \n",
    "\n",
    "对应重新排序的数组为：[1,  3,  2,  4]  [7,  6,  5,  8]  [12,  11,  10,  9]  [13,  14,  16,  15]\n",
    "\n",
    "\n"
   ]
  },
  {
   "cell_type": "markdown",
   "metadata": {},
   "source": [
    "idea："
   ]
  },
  {
   "cell_type": "markdown",
   "metadata": {},
   "source": [
    "1.原始的 QuickSort 算法在最坏情况下（例如数组已经有序）的时间复杂度为O(n2 )，这是因为在每次划分时，可能会选择到最小或最大的元素作为基准，导致划分极不均衡。为了避免这种情况，我们可以使用 BB(A, p, r, k) 函数来选择一个好的基准元素，使得每次划分都尽可能均衡。\n"
   ]
  },
  {
   "cell_type": "raw",
   "metadata": {
    "vscode": {
     "languageId": "raw"
    }
   },
   "source": [
    "伪代码：\n",
    "ModifiedQuickSort(A, p, r)\n",
    "    if p < r\n",
    "        median_index = BB(A, p, r, (r - p + 1) / 2)\n",
    "        swap A[median_index] and A[r]\n",
    "        q = Partition(A, p, r)\n",
    "        ModifiedQuickSort(A, p, q - 1)\n",
    "        ModifiedQuickSort(A, q + 1, r)\n",
    "Partition(A, p, r)\n",
    "    x = A[r]\n",
    "    i = p - 1\n",
    "    for j = p to r - 1\n",
    "        if A[j] <= x\n",
    "            i = i + 1\n",
    "            swap A[i] and A[j]\n",
    "    swap A[i + 1] and A[r]\n",
    "    return i + 1"
   ]
  },
  {
   "cell_type": "markdown",
   "metadata": {},
   "source": [
    "### 为何修改后的版本最差情况的运行时间为 \\(O(n\\log n)\\)---(借助了大模型)\n",
    "\n",
    "设 \\(T(n)\\) 表示对长度为 \\(n\\) 的数组进行排序的时间复杂度。\n",
    "\n",
    "1.**划分操作**：使用 `BB(A, p, r, k)` 函数选择基准元素的时间复杂度为 \\(O(n)\\)，因为 `BB` 函数在 \\(O(r - p + 1)\\) 时间内完成，这里 \\(r - p + 1=n\\)。划分操作 `Partition` 也可以在线性时间 \\(O(n)\\) 内完成。所以，每次划分操作的总时间复杂度为 \\(O(n)\\)。\n",
    "\n",
    "2.**递归调用**：由于我们选择的是中位数作为基准元素，划分后的两个子数组的长度最多为 \\(\\frac{n}{2}\\)。因此，递归调用 `ModifiedQuickSort` 对两个子数组进行排序的时间复杂度为 $(2T(\\frac{n}{2}))$。\n",
    "\n",
    "根据上述分析，我们可以得到递归方程：\n",
    "\n",
    "$(T(n)=2T(\\frac{n}{2})+O(n))$\n",
    "\n",
    "根据主定理，对于递归方程 $(T(n)=aT(\\frac{n}{b})+f(n))$，其中 \\(a = 2\\)，\\(b = 2\\)，\\(f(n)=O(n)\\)，计算 $(n^{\\log_b a}=n^{\\log_2 2}=n)$。\n",
    "\n",
    "因为 $(f(n)=O(n)= \\Theta(n^{\\log_b a}))$，根据主定理的情况 2，可得 $(T(n)=O(nlog n))$。\n",
    "\n",
    "所以，修改后的 QuickSort 算法在最坏情况下的运行时间为 \\(O(nlog n)\\)。 "
   ]
  },
  {
   "cell_type": "raw",
   "metadata": {
    "vscode": {
     "languageId": "raw"
    }
   },
   "source": [
    "2.伪代码\n",
    "ReportKSmallest(A, p, r, k)\n",
    "    if k == 0\n",
    "        return []\n",
    "    if p == r\n",
    "        return [A[p]]\n",
    "    // 找到第 k 小的元素的下标\n",
    "    index = BB(A, p, r, k)\n",
    "    // 将第 k 小的元素放到数组末尾\n",
    "    swap A[index] and A[r]\n",
    "    // 进行划分\n",
    "    q = Partition(A, p, r)\n",
    "    // 划分后左半部分即为前 k 小的元素\n",
    "    return A[p:q+1]\n",
    "\n",
    "// 假设 Partition 函数可以在线性时间内完成划分\n",
    "Partition(A, p, r)\n",
    "    x = A[r]\n",
    "    i = p - 1\n",
    "    for j = p to r - 1\n",
    "        if A[j] <= x\n",
    "            i = i + 1\n",
    "            swap A[i] and A[j]\n",
    "    swap A[i + 1] and A[r]\n",
    "    return i + 1"
   ]
  },
  {
   "cell_type": "markdown",
   "metadata": {},
   "source": [
    "### 2.时间复杂度分析\n",
    "\n",
    "设 \\(T(n)\\) 表示对长度为 \\(n=r - p+1\\) 的数组找出前 \\(k\\) 小元素的时间复杂度。\n",
    "\n",
    "1.**寻找第 \\(k\\) 小的元素**：使用 `BB(A, p, r, k)` 函数找到第 \\(k\\) 小的元素，该函数的时间复杂度为 \\(O(n)\\)。\n",
    "2.**划分操作**：`Partition` 函数进行划分的时间复杂度为 \\(O(n)\\)。\n",
    "\n",
    "所以，总的时间复杂度 \\(T(n)=O(n)\\)。\n",
    "\n",
    "当 $(k = \\sqrt{n})$ 时，我们同样是先找到第 $(\\sqrt{n})$ 小的元素，然后进行划分，整个过程的时间复杂度依然是 $(O(n))$。因为无论 \\(k\\) 的值是多少，`BB` 函数和 `Partition` 函数的时间复杂度都是线性的，与 \\(k\\) 的具体取值无关。\n",
    "\n",
    "综上所述，该算法的时间复杂度为 \\(O(n)\\)，优于 \\(O(nlog n)\\)，并且当 $(k=\\sqrt{n})$ 时，时间复杂度为 $(\\Theta(n))$。 "
   ]
  },
  {
   "cell_type": "raw",
   "metadata": {
    "vscode": {
     "languageId": "raw"
    }
   },
   "source": [
    "3.可采用分治策略，再结合 BB(A, p, r, k) 函数来实现\n",
    "伪代码：\n",
    "PartitionArray(A, p, r, k)\n",
    "    if k == 1\n",
    "        return\n",
    "    n = r - p + 1\n",
    "    step = n / k\n",
    "    for i = 1 to k - 1\n",
    "        index = BB(A, p, r, i * step)\n",
    "        swap A[index] and A[p + i * step - 1]\n",
    "    for i = 1 to k - 1\n",
    "        q = Partition(A, p, p + i * step - 1)\n",
    "    for i = 0 to k - 1\n",
    "        start = p + i * step\n",
    "        end = start + step - 1\n",
    "        PartitionArray(A, start, end, 1)\n",
    "\n",
    "Partition(A, p, r)\n",
    "    x = A[r]\n",
    "    i = p - 1\n",
    "    for j = p to r - 1\n",
    "        if A[j] <= x\n",
    "            i = i + 1\n",
    "            swap A[i] and A[j]\n",
    "    swap A[i + 1] and A[r]\n",
    "    return i + 1"
   ]
  },
  {
   "cell_type": "markdown",
   "metadata": {},
   "source": [
    "### 3、时间复杂度分析\n",
    "\n",
    "设 \\(T(n, k)\\) 表示对长度为 \\(n\\) 的数组划分为 \\(k\\) 个部分的时间复杂度。\n",
    "\n",
    " 1.寻找划分基准：需要找到 \\(k - 1\\) 个基准元素，每次调用 `BB(A, p, r, k)` 函数的时间复杂度为 \\(O(n)\\)，所以寻找基准元素的总时间复杂度为 \\(O((k - 1)n)\\)。\n",
    " 2.划分操作：进行 \\(k - 1\\) 次划分，每次划分的时间复杂度为 \\(O(n)\\)，所以划分操作的总时间复杂度为 \\(O((k - 1)n)\\)。\n",
    " 3.递归处理子部分：每个子部分的长度为 $(\\frac{n}{k})$，递归处理 \\(k\\) 个子部分的时间复杂度为 $kT(\\frac{n}{k}, 1)$。由于$kT(\\frac{n}{k}, 1)=k \\times O(\\frac{n}{k}) = O(n)$。\n",
    "\n",
    "因此，总的时间复杂度 \\(T(n, k)=O((k - 1)n)+O((k - 1)n)+O(n)\\)。因为 \\(n\\) 和 \\(k\\) 都是 2 的幂，且 $(k\\leq n)$，我们可以简化时间复杂度的分析。\n",
    "\n",
    "在寻找基准元素和划分操作中，主要的时间开销与 \\(n\\) 和 \\(k\\) 相关。实际上，我们可以从递归树的角度来分析。递归树的深度为 \\(\\log k\\)，每一层的时间复杂度为 \\(O(n)\\)。\n",
    "\n",
    "具体来说，每次递归将问题规模缩小 \\(k\\) 倍，需要进行 \\(log k\\) 层递归。每层递归中，无论是寻找基准元素还是划分操作，总的时间复杂度都是 \\(O(n)\\)。\n",
    "\n",
    "所以，该算法的时间复杂度为 \\(O(nlog k)\\)。 "
   ]
  },
  {
   "cell_type": "markdown",
   "metadata": {},
   "source": [
    "## 问题 10：\n",
    "\n",
    "给定一个包含m个**字符串**的数组A, 其中不同的字符串可能有不同的字符数, 但数组中所有字符串的字符总数为n。设计一个算法在 $O(n)$ 时间内对字符串进行排序, 分析算法设计方案, 计算其时间复杂度, 并基于python编程实现该算法。请注意, 假设字符串只包含\"a\",\"b\",...,\"z\", \n",
    "\n",
    "\n",
    "\n",
    "举例1：数组A=[\"a\", \"da\", \"bde\", \"ab\", \"bc\", \"abdc\", \"cdba\"], 排序后的数组应该为：['a', 'ab', 'abdc', 'bc', 'bde', 'cdba', 'da']\n",
    "\n",
    "\n",
    "\n",
    "举例2：数组A=['ab', 'a', 'b', 'abc', 'ba', 'c'], 排序后的数组应该为：\n",
    "\n",
    "['a', 'ab', 'abc', 'b', 'ba', 'c']\n",
    "\n",
    "\n",
    "\n",
    "举例3：数组A=['aef', 'yzr', 'wr', 'ab', 'bhjc', 'lkabdc', 'pwcdba'],  排序后的数组应该为：['ab', 'aef', 'bhjc', 'lkabdc', 'pwcdba', 'wr', 'yzr']\n",
    "\n",
    "\n",
    "\n",
    "note：\n",
    "\n",
    "-  两个字符之间的比较可以考虑比较他们对应的ASCII码值；\n",
    "- python中可以使用`ord(\"a\")`返回字符 “a”对应的ASCII值"
   ]
  },
  {
   "cell_type": "markdown",
   "metadata": {},
   "source": [
    "idea:"
   ]
  },
  {
   "cell_type": "markdown",
   "metadata": {},
   "source": [
    "### 算法设计方案\n",
    "\n",
    "为了在 $O(n)$ 时间内对包含 $m$ 个字符串的数组 $A$ 进行排序，且数组中所有字符串的字符总数为 $n$，可以使用基数排序（Radix Sort）的思想。由于字符串只包含 \"a\" - \"z\"，我们从字符串的最长长度开始，从右到左按每个字符位置进行排序。\n",
    "\n",
    "具体步骤如下：\n",
    "1. 找到数组中最长字符串的长度 $max\\_len$。\n",
    "2. 对于每个位置 $i$ 从 $max\\_len - 1$ 到 $0$，对所有字符串进行计数排序。计数排序是一种稳定的排序算法，时间复杂度为 $O(m + 26)$，因为字符只有 26 种可能。\n",
    "3. 重复步骤 2，直到处理完所有位置。\n",
    "\n",
    "\n",
    "**时间复杂度**：\n",
    "    1. 找到最长字符串长度的时间复杂度为 $O(n)$，因为需要遍历所有字符串。\n",
    "    2. 对于每个位置进行计数排序，总共需要进行 $max\\_len$ 次计数排序，每次计数排序的时间复杂度为 $O(m + 26)$。由于 $max\\_len$ 是一个常数级别（与 $n$ 相比），且 $26$ 也是常数，所以总的时间复杂度为 $O(n)$。\n",
    "\n",
    "\n",
    "\n",
    "    \n",
    "\n",
    "\n"
   ]
  },
  {
   "cell_type": "code",
   "execution_count": null,
   "metadata": {},
   "outputs": [],
   "source": [
    "# add your code here\n",
    "# your algorithm time complexity is :\n",
    "def radix_sort_strings(arr):\n",
    "    max_len = max(len(s) for s in arr)\n",
    "\n",
    "    for i in range(max_len - 1, -1, -1):\n",
    "        count = [0] * 26\n",
    "        output = [0] * len(arr)\n",
    "\n",
    "        for s in arr:\n",
    "            if i < len(s):\n",
    "                count[ord(s[i]) - ord('a')] += 1\n",
    "            else:\n",
    "                count[0] += 1\n",
    "        for j in range(1, 26):\n",
    "            count[j] += count[j - 1]\n",
    "\n",
    "        for j in range(len(arr) - 1, -1, -1):\n",
    "            s = arr[j]\n",
    "            if i < len(s):\n",
    "                index = ord(s[i]) - ord('a')\n",
    "            else:\n",
    "                index = 0\n",
    "            output[count[index] - 1] = s\n",
    "            count[index] -= 1\n",
    "\n",
    "        arr = output\n",
    "\n",
    "    return arr\n",
    "\n",
    "A = [\"a\", \"da\", \"bde\", \"ab\", \"bc\", \"abdc\", \"cdba\"]\n",
    "sorted_A = radix_sort_strings(A)\n",
    "print(sorted_A)\n",
    "    "
   ]
  }
 ],
 "metadata": {
  "kernelspec": {
   "display_name": "Python 3",
   "language": "python",
   "name": "python3"
  },
  "language_info": {
   "codemirror_mode": {
    "name": "ipython",
    "version": 3
   },
   "file_extension": ".py",
   "mimetype": "text/x-python",
   "name": "python",
   "nbconvert_exporter": "python",
   "pygments_lexer": "ipython3",
   "version": "3.10.1"
  }
 },
 "nbformat": 4,
 "nbformat_minor": 2
}
