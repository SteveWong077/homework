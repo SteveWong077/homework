{
 "cells": [
  {
   "cell_type": "markdown",
   "metadata": {},
   "source": [
    "## algorithm design and anlysis-2025 spring  homework 2\n",
    "**Deadline**：2025.5.14\n",
    "\n",
    "**name**:\n",
    "\n",
    "\n",
    "note：\n",
    "---\n",
    "1. 带有\\*的题目，申请免上课的同学，必须完成，其他同学选作；\n",
    "2. 请独立完成，如求助了他人或者大模型，请著明，并且不可省略算法分析部分；\n",
    "4. 如若作答有雷同，全部取消成绩；\n",
    "3. 需要书面作答的题目，可以通过引用图片的形式添加，但是注意上传项目时包含所引用的图片的源文件；\n",
    "4. $log_n$ 默认表示$log_2{n}$;"
   ]
  },
  {
   "cell_type": "markdown",
   "metadata": {},
   "source": [
    "## 问题 1  \n",
    "\n",
    "> 给定一个已排序的链表的头 `head` ， *删除所有重复的元素，使每个元素只出现一次* 。返回 *已排序的链表* 。链表的类如下所示：\n",
    "\n",
    "```python\n",
    "class NodeList:\n",
    "    def __init__(self, val=None, right=None):\n",
    "        self.val   = val\n",
    "        self.right = right\n",
    "```\n",
    "\n",
    "输入是一个数组，你首先需要将数组转化为链表，然后删除链表中的重复元素，再遍历链表元素，以一个数组的形式返回。请设计一个算法解决上述任务，分析算法设计思路，计算时间复杂度, 并基于python编程实现。\n",
    "\n",
    "e.g.  输入：head=[1, 1, 2, 3, 3]   输出：[1, 2, 3]\n",
    "\n",
    "![image-20240502110020439](./fig/hw2q1.png)\n",
    "\n"
   ]
  },
  {
   "cell_type": "markdown",
   "metadata": {},
   "source": [
    "idea："
   ]
  },
  {
   "cell_type": "markdown",
   "metadata": {},
   "source": [
    "### 算法设计思路\n",
    "\n",
    "#### 1. 数组转化为链表\n",
    "要把给定的数组转化为链表，需遍历数组。对于数组里的每个元素，创建一个新的链表节点，并且将其连接到链表的尾部。\n",
    "\n",
    "#### 2. 删除链表中的重复元素\n",
    "由于链表已排序，所以可以通过比较当前节点和下一个节点的值来判断是否重复。如果发现重复，则删除重复的节点。\n",
    "\n",
    "#### 3. 链表元素转化为数组\n",
    "遍历处理后的链表，把每个节点的值添加到一个数组中，最终返回该数组。\n",
    "\n",
    "\n",
    "\n",
    "#### 时间复杂度\n",
    "1. 数组转化为链表时，需要遍历一次数组，时间复杂度为 $O(n)$， $n$ 是数组的长度。\n",
    "2. 删除链表中的重复元素，要遍历一次链表，时间复杂度为 $O(n)$。\n",
    "3. 链表元素转化为数组，同样需要遍历一次链表，时间复杂度为 $O(n)$。\n",
    "\n",
    "所以，整个算法的时间复杂度为 $O(n)$。\n"
   ]
  },
  {
   "cell_type": "code",
   "execution_count": 1,
   "metadata": {},
   "outputs": [
    {
     "name": "stdout",
     "output_type": "stream",
     "text": [
      "[1, 2, 3]\n"
     ]
    }
   ],
   "source": [
    "# add your idea here\n",
    "# your algorithm time complexity is:O(n)\n",
    "class NodeList:\n",
    "    def __init__(self, val=None, right=None):\n",
    "        self.val = val\n",
    "        self.right = right\n",
    "\n",
    "def array_to_linked_list(arr):\n",
    "    dummy = NodeList()\n",
    "    current = dummy\n",
    "    for num in arr:\n",
    "        current.right = NodeList(num)\n",
    "        current = current.right\n",
    "    return dummy.right\n",
    "\n",
    "def remove_duplicates(head):\n",
    "    current = head\n",
    "    while current and current.right:\n",
    "        if current.val == current.right.val:\n",
    "            current.right = current.right.right\n",
    "        else:\n",
    "            current = current.right\n",
    "    return head\n",
    "\n",
    "def linked_list_to_array(head):\n",
    "    result = []\n",
    "    current = head\n",
    "    while current:\n",
    "        result.append(current.val)\n",
    "        current = current.right\n",
    "    return result\n",
    "\n",
    "def process_array(arr):\n",
    "    head = array_to_linked_list(arr)\n",
    "    head = remove_duplicates(head)\n",
    "    return linked_list_to_array(head)\n",
    "\n",
    "input_array = [1, 1, 2, 3, 3]\n",
    "output_array = process_array(input_array)\n",
    "print(output_array)\n",
    "    "
   ]
  },
  {
   "cell_type": "markdown",
   "metadata": {},
   "source": [
    "## 问题 2  \n",
    "\n",
    "> 下面是一个经典的算法问题：\n",
    ">\n",
    "> - 给定包含n个整数的一个整数数组 `nums` 和一个整数目标值 `target`，请你在该数组中找出 **和为目标值** *`target`* 的那 **两个** 整数，并返回它们的**数组下标**。假设每种输入只会对应一个答案。但是，数组中同一个元素在答案里不能重复出现。你可以按任意顺序返回答案。\n",
    ">\n",
    "> 由于要多次查找数组中元素的位置，为了提高查询效率可以使用哈希表来存储数组中的数据，在哈希表中查询一个元素的复杂度为O(1)。 已知python中的字典是使用哈希表实现的，即使用`dict[key]`查询对应的value时间复杂度为O(1), python提供了查询字典是否包含某个key的功能：`key in dict`，时间复杂度也是O(1)\n",
    "\n",
    "请根据上面信息，设计一个时间复杂度为O(n) 的算法，解决上述算法问题\n",
    "\n",
    "e.g.   \n",
    "\n",
    "输入：nums=[2,7,11,15], target=9， 输出：[0，1]\n",
    "\n",
    "输入：nums=[3,2,4], target=6, 输出：[1,2]\n",
    "\n",
    "输入：nums=[3,3], target=6,  输出：[0,1]\n"
   ]
  },
  {
   "cell_type": "markdown",
   "metadata": {},
   "source": [
    "### 算法设计思路\n",
    "\n",
    "1. 遍历数组 `nums`，对于数组中的每个元素 `num`，计算其与目标值 `target` 的差值 。\n",
    "2. 检查差值 `complement` 是否已经存在于哈希表中：\n",
    "    1. 如果存在，说明我们已经找到了这两个数，它们的和为 `target`，此时返回这两个数在数组中的下标。\n",
    "    2. 如果不存在，将当前元素 `num` 及其下标存入哈希表中。\n",
    "\n",
    "### 复杂度分析\n",
    "\n",
    "1. **时间复杂度**：由于只需要遍历数组一次，对于数组中的每个元素，哈希表的查找和插入操作的时间复杂度都是 \\(O(1)\\)，因此总的时间复杂度为 \\(O(n)\\)。\n"
   ]
  },
  {
   "cell_type": "code",
   "execution_count": 2,
   "metadata": {},
   "outputs": [
    {
     "name": "stdout",
     "output_type": "stream",
     "text": [
      "[0, 1]\n",
      "[1, 2]\n",
      "[0, 1]\n"
     ]
    }
   ],
   "source": [
    "# add your idea here\n",
    "# your algorithm time complexity is: O(n)\n",
    "def twoSum(nums, target):\n",
    "    num_dict = {}\n",
    "    for i, num in enumerate(nums):\n",
    "        complement = target - num\n",
    "        if complement in num_dict:\n",
    "            return [num_dict[complement], i]\n",
    "        num_dict[num] = i\n",
    "\n",
    "\n",
    "nums1 = [2, 7, 11, 15]\n",
    "target1 = 9\n",
    "print(twoSum(nums1, target1))  \n",
    "\n",
    "nums2 = [3, 2, 4]\n",
    "target2 = 6\n",
    "print(twoSum(nums2, target2))  \n",
    "\n",
    "nums3 = [3, 3]\n",
    "target3 = 6\n",
    "print(twoSum(nums3, target3))  \n",
    "    "
   ]
  },
  {
   "cell_type": "markdown",
   "metadata": {},
   "source": [
    "## 问题 3:   \n",
    "\n",
    "> 栈是一种常用的数据结构，编译器中通常使用栈来实现表达式求值。\n",
    ">\n",
    "> 以表达式 $3+5 \\times 8-6$​ 为例。编译器使用两个栈来完成运算，即一个栈保持操作数，另一个栈保存运算符。\n",
    ">\n",
    "> 1. 从左向右遍历表达式，遇到数字就压入操作数栈；\n",
    ">\n",
    "> 2. 遇到运算符，就与运算符栈的栈顶元素进行比较。如果比运算符栈顶元素的优先级高，就将当前运算符压入栈；如果比运算符栈顶元素的优先级低或者相同，从运算符栈中取栈顶运算符，从操作数栈的栈顶取 2 个操作数，然后进行计算，再把计算完的结果压入操作数栈，继续比较。\n",
    ">\n",
    "> 下图是 $3+5 \\times 8-6$  这个表达式的计算过程：\n",
    "\n",
    "![figure](./fig/hw2q3.png)\n",
    "\n",
    "根据上述原理，请设计一个算法完成表达式的运算，当输入为表达式字符串，返回对应的计算结果。分析算法设计思路，计算时间复杂度，并基于python编程实现\n",
    "\n",
    "**note：**\n",
    "\n",
    "1. 假设输入的表达式只会出现加（“+”），减 “-”， 乘“*”，除 “/” 四个运算符, 表达式中只会出现正整数\n",
    "2. python中` str.isdigit()`函数可以判断字符串str是否为数字，\n",
    "\n",
    "\n",
    "\n",
    "e.g. :\n",
    "---\n",
    "\n",
    "1. 输入：“$3+5 * 8 -6$”   输出：37\n",
    "\n",
    "2. 输入：“$34+13*9 + 44-12/3$”  输出：191"
   ]
  },
  {
   "cell_type": "markdown",
   "metadata": {},
   "source": [
    "idea："
   ]
  },
  {
   "cell_type": "markdown",
   "metadata": {},
   "source": [
    "### 算法设计思路\n",
    "\n",
    "为了实现表达式的运算，使用两个栈：一个操作数栈 `operand_stack` 用于存数字，另一个运算符栈 `operator_stack` 用于存运算符。步骤如下：\n",
    "\n",
    "1. **初始化**：创建两个空栈，一个用于存操作数，另一个用于存运算符。\n",
    "2. **遍历表达式**：从左到右遍历输入的表达式字符串。\n",
    "    - 若遇到数字，将其转换为整数后压入操作数栈。\n",
    "    - 若遇到运算符：\n",
    "        - 若运算符栈为空，或者当前运算符的优先级高于栈顶运算符的优先级，将当前运算符压入运算符栈。\n",
    "        - 若当前运算符的优先级低于或等于栈顶运算符的优先级，从运算符栈弹出栈顶运算符，从操作数栈弹出两个操作数进行运算，将结果压入操作数栈，然后继续比较当前运算符与新的栈顶运算符。\n",
    "3. **处理剩余运算符**：遍历结束后，若运算符栈不为空，依次弹出运算符和操作数进行运算，直到运算符栈为空。\n",
    "4. **返回结果**：操作数栈中最终剩下的元素即为表达式的计算结果。\n",
    "\n",
    "\n",
    "- **时间复杂度**：遍历表达式字符串一次，每个字符最多被处理一次，每次处理的操作都是常数时间操作，因此时间复杂度为 $O(n)$， $n$ 是表达式字符串的长度。\n"
   ]
  },
  {
   "cell_type": "code",
   "execution_count": 3,
   "metadata": {},
   "outputs": [
    {
     "name": "stdout",
     "output_type": "stream",
     "text": [
      "37\n",
      "191.0\n"
     ]
    }
   ],
   "source": [
    "# add your idea here\n",
    "# your algorithm time complexity is: \n",
    "def precedence(operator):\n",
    "    if operator in ('+', '-'):\n",
    "        return 1\n",
    "    if operator in ('*', '/'):\n",
    "        return 2\n",
    "    return 0\n",
    "\n",
    "def apply_operator(operators, operands):\n",
    "    operator = operators.pop()\n",
    "    right_operand = operands.pop()\n",
    "    left_operand = operands.pop()\n",
    "    if operator == '+':\n",
    "        result = left_operand + right_operand\n",
    "    elif operator == '-':\n",
    "        result = left_operand - right_operand\n",
    "    elif operator == '*':\n",
    "        result = left_operand * right_operand\n",
    "    elif operator == '/':\n",
    "        result = left_operand / right_operand\n",
    "    operands.append(result)\n",
    "\n",
    "def evaluate_expression(expression):\n",
    "    operands = []\n",
    "    operators = []\n",
    "    i = 0\n",
    "    while i < len(expression):\n",
    "        if expression[i].isdigit():\n",
    "            num = 0\n",
    "            while i < len(expression) and expression[i].isdigit():\n",
    "                num = num * 10 + int(expression[i])\n",
    "                i += 1\n",
    "            i -= 1\n",
    "            operands.append(num)\n",
    "        elif expression[i] in ('+', '-', '*', '/'):\n",
    "            while (operators and precedence(operators[-1]) >= precedence(expression[i])):\n",
    "                apply_operator(operators, operands)\n",
    "            operators.append(expression[i])\n",
    "        i += 1\n",
    "\n",
    "    while operators:\n",
    "        apply_operator(operators, operands)\n",
    "\n",
    "    return operands[0]\n",
    "\n",
    "expression1 = \"3+5 * 8 -6\"\n",
    "print(evaluate_expression(expression1))  \n",
    "\n",
    "expression2 = \"34+13*9 + 44-12/3\"\n",
    "print(evaluate_expression(expression2))  \n",
    "    "
   ]
  },
  {
   "cell_type": "markdown",
   "metadata": {},
   "source": [
    "## 问题 4:  \n",
    "\n",
    "> 星球碰撞问题：现有n个星球，在同一条直线上运行，如数组A所示，元素的绝对值表示星球的质量，负数表示星球自右向左运动，正数表示星球自左向右运动，当两个星球相撞的时候，质量小的会消失，大的保持不变，**质量相同的两个星球碰撞后自右向左运动的星球消失，自左向右的星球保持不变**，假设所有星球的速度大小相同。\n",
    ">\n",
    "> $ A=[23,-8, 9, -3, -7, 9, -23, 22] $\n",
    "\n",
    "请设计一个算法模拟星球的运行情况，输出最终的星球存续情况（输出一个数组），分析算法设计思路，计算时间复杂度，并基于python编程实现。\n",
    "\n",
    "e.g.\n",
    "---\n",
    "1.  输入： A=[-3,-6,2,8, 5,-8,9,-2,1]， 输出：[-3, -6, 2, 8, 9, 1]\n",
    "\n",
    "2. 输入：A=[23,-8, 9, -3, -7, 9, -23, 22], 输出：[23, 22]\n",
    "\n"
   ]
  },
  {
   "cell_type": "markdown",
   "metadata": {},
   "source": [
    "### 算法设计思路：\n",
    "可以用一个栈来模拟星球的运动状态：\n",
    "\n",
    "只有当栈顶元素为 右行星球（正数），当前星球为 左行星球（负数）时，才会发生碰撞\n",
    "碰撞时比较两个星球的质量：\n",
    "### 1. 当前星球质量 > 栈顶星球质量,则弹出栈顶\n",
    "### 2. 当前星球质量 = 栈顶星球质量，则弹出栈顶，当前星球也消失\n",
    "### 3. 当前星球质量 < 栈顶星球质量，则当前星球消失\n",
    "### 4. 其他情况直接入栈\n",
    "\n",
    "### 时间复杂度：每个星球最多进栈一次、出栈一次，所以总时间复杂度为O(n)"
   ]
  },
  {
   "cell_type": "code",
   "execution_count": 22,
   "metadata": {},
   "outputs": [
    {
     "name": "stdout",
     "output_type": "stream",
     "text": [
      "[23, 22]\n"
     ]
    }
   ],
   "source": [
    "def planet_collision(A):\n",
    "    stack = []\n",
    "\n",
    "    for planet in A:\n",
    "        while stack and planet < 0 < stack[-1]: \n",
    "            if abs(planet) > abs(stack[-1]):\n",
    "                stack.pop()\n",
    "                continue\n",
    "            elif abs(planet) == abs(stack[-1]):\n",
    "                break\n",
    "            else:\n",
    "                break\n",
    "        else:\n",
    "            stack.append(planet)\n",
    "\n",
    "    return stack\n",
    "\n",
    "A = [23, -8, 9, -3, -7, 9, -23, 22]\n",
    "print(planet_collision(A)) \n"
   ]
  },
  {
   "cell_type": "markdown",
   "metadata": {},
   "source": [
    "## 问题 5 \n",
    "\n",
    "> 给定一个无序数组nums=[9,-3,-10,0,9,7,33]，请建立一个二叉搜索树存储数组中的所有元素，之后删除二叉树中的元素“0”，再使用中序遍历输出二叉搜索树中的所有元素。\n",
    "\n",
    "使用python编程完成上述任务，并计算时间复杂度\n"
   ]
  },
  {
   "cell_type": "markdown",
   "metadata": {},
   "source": [
    "### 设计思路\n",
    "构建 BST： 逐个将数组元素插入到 BST 中\n",
    "\n",
    "删除节点 0： 根据 BST 的删除规则：\n",
    "\n",
    "若被删节点是叶子节点，直接删除\n",
    "\n",
    "若有一个子节点，用子节点替代它\n",
    "\n",
    "若有两个子节点，用右子树中最小值节点替代它\n",
    "\n",
    "中序遍历： 左 ,根 , 右，从而得到升序序列\n",
    "\n",
    "时间复杂度：插入/删除/查找操作在平衡 BST 中平均时间复杂度为：O(logn); 若不平衡，最坏情况退化为链表：即为O(n);所以总体时间复杂度为：O(nlogn)"
   ]
  },
  {
   "cell_type": "code",
   "execution_count": 23,
   "metadata": {},
   "outputs": [
    {
     "name": "stdout",
     "output_type": "stream",
     "text": [
      "中序遍历结果（删除0后）: [-10, -3, 7, 9, 9, 33]\n"
     ]
    }
   ],
   "source": [
    "# add your idea here\n",
    "# your algorithm time complexity is:\n",
    "class TreeNode:\n",
    "    def __init__(self, val):\n",
    "        self.val = val\n",
    "        self.left = None\n",
    "        self.right = None\n",
    "\n",
    "def insert(root, val):\n",
    "    if not root:\n",
    "        return TreeNode(val)\n",
    "    if val < root.val:\n",
    "        root.left = insert(root.left, val)\n",
    "    else:\n",
    "        root.right = insert(root.right, val)\n",
    "    return root\n",
    "\n",
    "def delete(root, val):\n",
    "    if not root:\n",
    "        return None\n",
    "    if val < root.val:\n",
    "        root.left = delete(root.left, val)\n",
    "    elif val > root.val:\n",
    "        root.right = delete(root.right, val)\n",
    "    else:\n",
    "        if not root.left:\n",
    "            return root.right\n",
    "        elif not root.right:\n",
    "            return root.left\n",
    "        min_larger = find_min(root.right)\n",
    "        root.val = min_larger.val\n",
    "        root.right = delete(root.right, min_larger.val)\n",
    "    return root\n",
    "\n",
    "def find_min(node):\n",
    "    while node.left:\n",
    "        node = node.left\n",
    "    return node\n",
    "\n",
    "# 中序遍历\n",
    "def inorder(root):\n",
    "    return inorder(root.left) + [root.val] + inorder(root.right) if root else []\n",
    "\n",
    "nums = [9, -3, -10, 0, 9, 7, 33]\n",
    "root = None\n",
    "for num in nums:\n",
    "    root = insert(root, num)\n",
    "\n",
    "root = delete(root, 0)\n",
    "\n",
    "result = inorder(root)\n",
    "print(\"中序遍历结果（删除0后）:\", result)\n"
   ]
  },
  {
   "cell_type": "markdown",
   "metadata": {},
   "source": [
    "## 问题 6  \n",
    "\n",
    "> 给定一个包含大写字母和小写字母的字符串 s ，返回 字符串包含的 **最长的回文子串的长度** 。请注意 区分大小写 。比如 \"Aa\" 不能当做一个回文字符串。\n",
    ">\n",
    "\n",
    "请设计一个算法解决上述问题，只需要输出最长回文子串的长度，分析算法设计思路，计算时间复杂度，并基于python编程实现\n",
    "\n",
    "e.g. 输入： s=\"adccaccd\"，  输出：7。 最长回文子串为：\"dccaccd\", 长度为7\n"
   ]
  },
  {
   "cell_type": "markdown",
   "metadata": {},
   "source": [
    "idea："
   ]
  },
  {
   "cell_type": "markdown",
   "metadata": {},
   "source": [
    "### 算法设计思路\n",
    "回文串可以从其中心展开，分为奇数长度和偶数长度两种情况。\n",
    "\n",
    "对于每个可能的中心（字符或字符间位置），向左右扩展，直到字符不匹配。\n",
    "\n",
    "记录扩展过程中找到的最长回文子串的长度。\n",
    "\n",
    "时间复杂度：每个字符最多扩展一次左右两边，所以总时间复杂度为：𝑂(𝑛2)"
   ]
  },
  {
   "cell_type": "code",
   "execution_count": 25,
   "metadata": {},
   "outputs": [
    {
     "name": "stdout",
     "output_type": "stream",
     "text": [
      "7\n"
     ]
    }
   ],
   "source": [
    "# add your idea here\n",
    "# your algorithm time complexity is:O(n2)\n",
    "def longestLength(s):\n",
    "    def expandAroundCenter(left, right):\n",
    "        while left >= 0 and right < len(s) and s[left] == s[right]:\n",
    "            left -= 1\n",
    "            right += 1\n",
    "        return right - left - 1\n",
    "\n",
    "    max_length = 0\n",
    "    for i in range(len(s)):\n",
    "        len1 = expandAroundCenter(i, i)\n",
    "        len2 = expandAroundCenter(i, i + 1)\n",
    "        current_max = max(len1, len2)\n",
    "        max_length = max(max_length, current_max)\n",
    "\n",
    "    return max_length\n",
    "s = \"adccaccd\"\n",
    "print(longestLength(s))\n",
    "    "
   ]
  },
  {
   "cell_type": "markdown",
   "metadata": {},
   "source": [
    "## 问题 7 \n",
    "\n",
    "> 沿一条长河流分散着n座房子。你可以把这条河想象成一条轴，房子是由它们在这条轴上的坐标按顺序排列的。你的公司想在河边的特定地点设置手机基站，这样每户人家都在距离基站4公里的范围内。输入可以看作为一个升序数组，数组元素的取值为大于等于0的正整数，你需要输出最小基站的数目，基站的位置。\n",
    "\n",
    "1. 给出一个时间复杂度为$O(n$) 的算法，使所使用的基站数量最小化，分析算法设计思路，使用python编程实现\n",
    "2. 证明1.中算法产生了最优解决方案。\n",
    "\n",
    "e.g. \n",
    "\n",
    "输入： [1, 5, 12, 33, 34,35]  输出：基站数目为3， 基站位置为[1，12，33]\n",
    "\n"
   ]
  },
  {
   "cell_type": "markdown",
   "metadata": {},
   "source": [
    "idea："
   ]
  },
  {
   "cell_type": "markdown",
   "metadata": {},
   "source": [
    "### 算法设计思路\n",
    "先从最左边的房子开始，因为要覆盖尽可能多的房子且基站数量最小，所以在满足条件的情况下尽量把基站设置在靠右边的位置。\n",
    "首先在最左边房子的位置设置一个基站，然后从这个基站位置开始向右遍历，找到距离该基站超过 4 公里的第一座房子。\n",
    "以这座房子为新的起始点，在其位置设置一个基站，然后继续重复上述过程，直到所有房子都被覆盖。\n",
    "这样设置基站可以保证每个基站都能覆盖到尽可能多的房子，从而使基站数量最小化。\n",
    "\n",
    "时间复杂度：每个房子最多只会被扫描一次，跳过被覆盖的部分，所以为O(n)"
   ]
  },
  {
   "cell_type": "code",
   "execution_count": 27,
   "metadata": {},
   "outputs": [
    {
     "name": "stdout",
     "output_type": "stream",
     "text": [
      "基站数目为3， 基站位置为[1, 12, 33]\n"
     ]
    }
   ],
   "source": [
    "def min_base_stations(houses):\n",
    "    if not houses:\n",
    "        return 0, []\n",
    "    base_stations = [houses[0]]\n",
    "    current_station = houses[0]\n",
    "    for house in houses:\n",
    "        if house - current_station > 4:\n",
    "            base_stations.append(house)\n",
    "            current_station = house\n",
    "    return len(base_stations), base_stations\n",
    "\n",
    "houses = [1, 5, 12, 33, 34, 35]\n",
    "count, stations = min_base_stations(houses)\n",
    "print(f\"基站数目为{count}， 基站位置为{stations}\")"
   ]
  },
  {
   "cell_type": "markdown",
   "metadata": {},
   "source": [
    "2. **证明**：[借鉴了大模型]\n",
    "   1. 设我们的算法得到的基站集合为$S = \\{s_1, s_2, \\ldots, s_k\\}$，假设存在一个更优的基站集合$S'=\\{s_1', s_2', \\ldots, s_{k'}'\\}$，其中$k' < k$。\n",
    "   2. 考虑最左边的房子$h_1$，在我们的算法中，$s_1$是覆盖$h_1$的基站。因为$S'$也必须覆盖$h_1$，所以在$S'$中存在一个基站$s_i'$可以覆盖$h_1$。\n",
    "   3. 由于我们的算法是从最左边开始，尽量把基站设置在靠右边的位置来覆盖尽可能多的房子，对于$S'$中的每个基站，它所能覆盖的房子集合不会比我们算法中对应的基站覆盖的房子集合更多。\n",
    "   4. 假设存在一个房子$h_j$，在我们的算法中被基站$s_m$覆盖，但在$S'$中不能被任何基站覆盖，这与$S'$是一个能覆盖所有房子的基站集合矛盾。\n",
    "   5. 又因为$S'$中基站数量$k' < k$，且要覆盖所有房子，那么必然存在一些房子不能被$S'$中的基站覆盖，这与$S'$是一个能覆盖所有房子的基站集合矛盾。\n",
    "   6. 所以不存在比我们算法得到的基站集合更优的集合，即我们的算法产生了最优解决方案。\n",
    "\n",
    "综上，算法的时间复杂度为$O(n)$，因为我们只需要遍历一次房子的数组，每个房子只被访问一次。 "
   ]
  },
  {
   "cell_type": "markdown",
   "metadata": {},
   "source": [
    "## 问题 8  \n",
    "\n",
    "> 给定由n个正整数组成的一个集合$S = \\{a_1, a_2，···，a_n\\}$和一个正整数W，设计一个算法确定是否存在S的一个子集 $K \\subseteq S$, 使K中所有数之和为 $W$, 如果存在返回“True”，否则返回“False”\n",
    "\n",
    "请设计一个时间复杂度为$O(nW)$动态规划算法，解决上述问题，分析算法的设计思路，并且基于python编程实现（不需要输出子集）。\n",
    "\n",
    "e.g. \n",
    "\n",
    "输入：S = {1,4,7,3,5}， W = 11，输出：True。   因为K可以是{4,7}。\n",
    "\n"
   ]
  },
  {
   "cell_type": "markdown",
   "metadata": {},
   "source": [
    "idea："
   ]
  },
  {
   "cell_type": "markdown",
   "metadata": {},
   "source": [
    "### 算法设计思路 [借鉴了大模型]\n",
    "定义一个二维布尔数组 `dp[i][j]`，其中 `i` 表示考虑前 `i` 个元素（从 `a_1` 到 `a_i`），`j` 表示当前的目标和为 `j`。`dp[i][j]` 的值表示是否存在一个子集，使得该子集的元素和为 `j`。\n",
    "\n",
    "状态转移方程如下：\n",
    "1. 当不考虑第 `i` 个元素时，`dp[i][j] = dp[i - 1][j]`，即如果前 `i - 1` 个元素中已经存在和为 `j` 的子集，那么前 `i` 个元素中也存在。\n",
    "2. 当考虑第 `i` 个元素时，如果 `j >= a[i]`（即目标和 `j` 大于等于第 `i` 个元素的值），则 `dp[i][j] = dp[i - 1][j] or dp[i - 1][j - a[i]]`。其中 `dp[i - 1][j - a[i]]` 表示前 `i - 1` 个元素中存在和为 `j - a[i]` 的子集，那么加上第 `i` 个元素就可以得到和为 `j` 的子集。\n",
    "\n",
    "初始条件：\n",
    "1. `dp[0][0] = True`，表示不选任何元素时，和为 `0` 的子集是存在的。\n",
    "2. `dp[0][j] = False`（`j > 0`），表示不选任何元素时，和不为 `0` 的子集是不存在的。\n",
    "\n",
    "最终结果：`dp[n][W]` 表示是否存在 `S` 的一个子集，其元素和为 `W`。\n",
    "\n",
    "### 复杂度分析\n",
    "\n",
    "- **时间复杂度**：因为需要填充一个大小为 `(n + 1) * (W + 1)` 的二维数组，对于每个位置 `dp[i][j]` 的计算时间是常数，所以总的时间复杂度为 $O(nW)$。"
   ]
  },
  {
   "cell_type": "code",
   "execution_count": 28,
   "metadata": {},
   "outputs": [
    {
     "name": "stdout",
     "output_type": "stream",
     "text": [
      "True\n"
     ]
    }
   ],
   "source": [
    "# add your idea here\n",
    "# your algorithm time complexity is: O(nW)\n",
    "def subset_sum(S, W):\n",
    "    n = len(S)\n",
    "    dp = [False] * (W + 1)\n",
    "    dp[0] = True \n",
    "    \n",
    "    for num in S:\n",
    "        for j in range(W, num - 1, -1):\n",
    "            dp[j] = dp[j] or dp[j - num]\n",
    "    \n",
    "    return dp[W]\n",
    "S = {1, 4, 7, 3, 5}\n",
    "W = 11\n",
    "print(subset_sum(S, W)) "
   ]
  },
  {
   "cell_type": "markdown",
   "metadata": {},
   "source": [
    "\n",
    "\n",
    "## 问题 9 \n",
    "\n",
    "> 给定一个n个物品的集合。物体的重量为$w_1, w_2，…、w_n$，物品的价值分别是$v_1、v_2、…v_n$。给你**两个**重量为 $c$ 的背包。如果你带了一个东西，它可以放在一个背包里，也可以放在另一个背包里，但不能同时放在两个背包里。所有权重和价值都是正整数。\n",
    "\n",
    "1. 设计一个时间复杂度为 $O(nc^2)$ 的动态规划算法，确定可以放入两个背包的物体的最大价值。分析算法设计思路，并基于python编程实现\n",
    "2. \\* 修改1中的算法，输出每个背包的内容（物品对应下标）。\n",
    "\n",
    "e.g.: \n",
    "\n",
    "输入 V=[1,3,2,5,8,7], W=[1,3,2,5,8,7], c=7, 输出：最大价值=14，背包装的物品为：[6] [4，3] （同一个背包中物品装入顺序对结果无影响）  \n"
   ]
  },
  {
   "cell_type": "markdown",
   "metadata": {},
   "source": [
    "idea："
   ]
  },
  {
   "cell_type": "markdown",
   "metadata": {},
   "source": [
    "### 算法设计思路（借鉴了大模型）\n",
    "设 dp[i][j][k] 表示：使用前 i 个物品后，背包 A 剩余容量为 j，背包 B 剩余容量为 k时所能达到的最大价值。对于第 i 个物品，重量为 w[i-1]，价值为 v[i-1]，有三种选择：\n",
    "1. 不选物品 i：dp[i][j][k]=dp[i−1][j][k]\n",
    "2. 放入背包 A（如果容量允许）：dp[i][j][k]=max(dp[i][j][k],dp[i−1][j−w[i−1]][k]+v[i−1])\n",
    "3. 放入背包 B（如果容量允许）：dp[i][j][k]=max(dp[i][j][k],dp[i−1][j][k−w[i−1]]+v[i−1])\n",
    "初始 dp[0][j][k] = 0，表示未选任何物品时价值为 0\n",
    "\n",
    "时间复杂度：由于维度：n × (c+1) × (c+1)，所以为：O(nc2)"
   ]
  },
  {
   "cell_type": "code",
   "execution_count": 35,
   "metadata": {},
   "outputs": [
    {
     "name": "stdout",
     "output_type": "stream",
     "text": [
      "最大价值为: 14\n"
     ]
    }
   ],
   "source": [
    "def knapsack_two_bags(V, W, c):\n",
    "    n = len(V)\n",
    "    dp = [[[0 for _ in range(c+1)] for _ in range(c+1)] for _ in range(n+1)]\n",
    "\n",
    "    for i in range(1, n+1):\n",
    "        w, v = W[i-1], V[i-1]\n",
    "        for j in range(c+1):\n",
    "            for k in range(c+1):\n",
    "                \n",
    "                dp[i][j][k] = dp[i-1][j][k]\n",
    "                if j >= w:\n",
    "                    dp[i][j][k] = max(dp[i][j][k], dp[i-1][j-w][k] + v)\n",
    "                if k >= w:\n",
    "                    dp[i][j][k] = max(dp[i][j][k], dp[i-1][j][k-w] + v)\n",
    "\n",
    "    return dp[n][c][c]\n",
    "V = [1,3,2,5,8,7]\n",
    "W = [1,3,2,5,8,7]\n",
    "c = 7\n",
    "max_val = knapsack_two_bags(V, W, c)\n",
    "print(\"最大价值为:\", max_val) \n"
   ]
  },
  {
   "cell_type": "code",
   "execution_count": 36,
   "metadata": {},
   "outputs": [
    {
     "name": "stdout",
     "output_type": "stream",
     "text": [
      "最大价值为: 14\n",
      "背包A装入物品下标: [5]\n",
      "背包B装入物品下标: [2, 3]\n"
     ]
    }
   ],
   "source": [
    "#2.修改后\n",
    "def knapsack_two_bags_with_items(V, W, c):\n",
    "    n = len(V)\n",
    "    dp = [[[0]*(c+1) for _ in range(c+1)] for _ in range(n+1)]\n",
    "    path = [[[None]*(c+1) for _ in range(c+1)] for _ in range(n+1)]\n",
    "\n",
    "    for i in range(1, n+1):\n",
    "        w, v = W[i-1], V[i-1]\n",
    "        for j in range(c+1):\n",
    "            for k in range(c+1):\n",
    "                dp[i][j][k] = dp[i-1][j][k]\n",
    "                path[i][j][k] = (j, k, 0)\n",
    "\n",
    "                if j >= w and dp[i-1][j-w][k] + v > dp[i][j][k]:\n",
    "                    dp[i][j][k] = dp[i-1][j-w][k] + v\n",
    "                    path[i][j][k] = (j-w, k, 1)\n",
    "\n",
    "                if k >= w and dp[i-1][j][k-w] + v > dp[i][j][k]:\n",
    "                    dp[i][j][k] = dp[i-1][j][k-w] + v\n",
    "                    path[i][j][k] = (j, k-w, 2)\n",
    "\n",
    "    j, k = c, c\n",
    "    A_items, B_items = [], []\n",
    "    for i in range(n, 0, -1):\n",
    "        pj, pk, action = path[i][j][k]\n",
    "        if action == 1:\n",
    "            A_items.append(i-1)\n",
    "        elif action == 2:\n",
    "            B_items.append(i-1)\n",
    "        j, k = pj, pk\n",
    "\n",
    "    return dp[n][c][c], A_items[::-1], B_items[::-1]\n",
    "V = [1,3,2,5,8,7]\n",
    "W = [1,3,2,5,8,7]\n",
    "c = 7\n",
    "\n",
    "max_val, A, B = knapsack_two_bags_with_items(V, W, c)\n",
    "print(\"最大价值为:\", max_val)\n",
    "print(\"背包A装入物品下标:\", A)\n",
    "print(\"背包B装入物品下标:\", B)\n"
   ]
  },
  {
   "cell_type": "markdown",
   "metadata": {},
   "source": [
    "## 问题 10 \n",
    "\n",
    "> 给定两个字符串 $x[1..n]$ 和 $y[1..m]$，我们想通过以下操作将 $x$ 变换为 $y$ :\n",
    ">\n",
    "> **插入**：在 $x$ 中插入一个字符(在任何位置)；**删除**：从 $x$ 中删除一个字符(在任何位置)； **替换**：用另一个字符替换 $x$ 中的一个字符。\n",
    ">\n",
    "> 例如: $x = abcd$, $y = bcfe$，\n",
    ">\n",
    "> - 将 $x$ 转换为 $y$ 的一种可能方法是：1. 删除 $x$ 开头的 $a$, $x$变成 $bcd$； 2. 将 $x$ 中的字符 $d$ 替换为字符 $f$。$x$ 变成 $bcf$； 3. 在 $x$ 的末尾插入字符 $e$。$x$ 变成 $bcfe$。\n",
    ">\n",
    "> - 另一种可能的方法：1. 删除 $x$ 开头的 $a$,  $x$ 变成 $bcd$； 2. 在 $x$ 中字符 $d$ 之前插入字符 $f$。$x$ 变成 $bcfd$。3. 将 $x$ 中的字符 $d$ 替换为字符 $e$。$x$ 变成 $bcfe$。\n",
    "\n",
    "设计一个时间复杂度为 $O(mn)$ 的算法，返回将 $x$ 转换为 $y$ 所需的最少操作次数。分析算法设计思路，并基于python编程实现。\n"
   ]
  },
  {
   "cell_type": "markdown",
   "metadata": {},
   "source": [
    "idea："
   ]
  },
  {
   "cell_type": "markdown",
   "metadata": {},
   "source": [
    "### 算法设计思路\n",
    "假设二维数组 dp[i][j] 表示：将 x[0..i-1] 转换为 y[0..j-1] 需要的最少操作数。\n",
    "对于每对位置 (i, j)，有以下三种可能操作：\n",
    "\n",
    "1. 替换：如果 x[i-1] != y[j-1]，那么 dp[i][j] = dp[i-1][j-1] + 1；\n",
    "\n",
    "2. 不变：如果 x[i-1] == y[j-1]，那么 dp[i][j] = dp[i-1][j-1]；\n",
    "\n",
    "3. 插入：dp[i][j] = dp[i][j-1] + 1\n",
    "\n",
    "4. 删除：dp[i][j] = dp[i-1][j] + 1\n",
    "所以最终答案为 dp[n][m]\n",
    "\n",
    "时间复杂度：因为状态总数：O(n * m)，而每个状态转移花费 O(1)，故总时间复杂度为 O(nm)"
   ]
  },
  {
   "cell_type": "code",
   "execution_count": 37,
   "metadata": {},
   "outputs": [
    {
     "name": "stdout",
     "output_type": "stream",
     "text": [
      "最小编辑距离为: 3\n"
     ]
    }
   ],
   "source": [
    "# add your idea here\n",
    "# your algorithm time complexity is: O(mn)\n",
    "def edit_distance(x: str, y: str) -> int:\n",
    "    n, m = len(x), len(y)\n",
    "    dp = [[0] * (m+1) for _ in range(n+1)]\n",
    "\n",
    "    for i in range(n+1):\n",
    "        dp[i][0] = i\n",
    "    for j in range(m+1):\n",
    "        dp[0][j] = j\n",
    "\n",
    "    for i in range(1, n+1):\n",
    "        for j in range(1, m+1):\n",
    "            if x[i-1] == y[j-1]:\n",
    "                dp[i][j] = dp[i-1][j-1]  \n",
    "            else:\n",
    "                dp[i][j] = min(\n",
    "                    dp[i-1][j-1] + 1,  \n",
    "                    dp[i][j-1] + 1,    \n",
    "                    dp[i-1][j] + 1     \n",
    "                )\n",
    "\n",
    "    return dp[n][m]\n",
    "x = \"abcd\"\n",
    "y = \"bcfe\"\n",
    "print(\"最小编辑距离为:\", edit_distance(x, y))  \n"
   ]
  }
 ],
 "metadata": {
  "kernelspec": {
   "display_name": "Python 3",
   "language": "python",
   "name": "python3"
  },
  "language_info": {
   "codemirror_mode": {
    "name": "ipython",
    "version": 3
   },
   "file_extension": ".py",
   "mimetype": "text/x-python",
   "name": "python",
   "nbconvert_exporter": "python",
   "pygments_lexer": "ipython3",
   "version": "3.10.1"
  }
 },
 "nbformat": 4,
 "nbformat_minor": 2
}
